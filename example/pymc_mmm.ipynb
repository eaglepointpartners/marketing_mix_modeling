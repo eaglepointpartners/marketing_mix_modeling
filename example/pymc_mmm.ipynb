{
 "cells": [
  {
   "cell_type": "code",
   "execution_count": 1,
   "metadata": {},
   "outputs": [],
   "source": [
    "import pandas as pd \n",
    "import numpy as np\n",
    "import pymc as pm\n",
    "import pytensor as pt\n",
    "import arviz as az\n",
    "import matplotlib.pyplot as plt\n",
    "\n",
    "pd.options.mode.use_inf_as_na = True"
   ]
  },
  {
   "attachments": {},
   "cell_type": "markdown",
   "metadata": {},
   "source": [
    "### Prepare the data"
   ]
  },
  {
   "cell_type": "code",
   "execution_count": 2,
   "metadata": {},
   "outputs": [],
   "source": [
    "# It's common for order history to go back further than marketing history\n",
    "# Let's see how many days we need to eliminate\n",
    "temp = pd.read_csv('regression_data.csv', index_col='DATE_KEY').fillna(0).sort_index()\n",
    "temp['total_spend'] = temp.sum(axis=1) - temp.new_customers\n",
    "temp['cumulative_spend'] = temp.total_spend.cumsum()\n",
    "\n",
    "days_without_ad_spend = (temp.cumulative_spend == 0).sum()"
   ]
  },
  {
   "cell_type": "code",
   "execution_count": 3,
   "metadata": {},
   "outputs": [
    {
     "name": "stdout",
     "output_type": "stream",
     "text": [
      "6 windows generated\n"
     ]
    }
   ],
   "source": [
    "# function to get data and slice it up for regression\n",
    "def prepare_data(source, w, shift_w, adstock_L):\n",
    "    \n",
    "    # for any given window, we want to grab prior 10 days so that we can calculate ad stock for first date\n",
    "    adstock_L = adstock_L\n",
    "\n",
    "    # number of windows available\n",
    "    windows = 1 + int((len(source) - adstock_L - 0.8*w)/shift_w) # len(oldest window) >= 0.8*w\n",
    "\n",
    "    # prep windows for regressions\n",
    "    inputs = {}\n",
    "    for i in range(windows-1, -1, -1):\n",
    "        shift = shift_w * i\n",
    "        if shift == 0: combo = source.iloc[-w:,:].copy()\n",
    "        else: combo = source.iloc[-w-shift:-shift,:].copy()\n",
    "        #if shift == 0: combo = source.iloc[-adstock_L-w:,:].copy()\n",
    "        #else: combo = source.iloc[-adstock_L-w-shift:-shift,:].copy()\n",
    "        \n",
    "        # saw down raw data\n",
    "        inputs[combo.index.values.max()] = {}\n",
    "        inputs[combo.index.values.max()]['combo_raw'] = combo.copy()\n",
    "        \n",
    "        # drop columns where less than half the days have values\n",
    "        for col in combo.columns:\n",
    "            if ((combo[col] != 0) & (~combo[col].isnull())).sum() < int(0.5*w):\n",
    "                combo.drop(col, axis=1, inplace=True)\n",
    "        inputs[combo.index.values.max()]['combo'] = combo\n",
    "    return inputs\n",
    "\n",
    "# import file\n",
    "temp = pd.read_csv('regression_data.csv', index_col='DATE_KEY').fillna(0).sort_index()\n",
    "temp = temp[[x for x in temp.columns if x not in ['Meta-1', 'Meta-2', 'Meta-3']]].iloc[days_without_ad_spend:,:].copy()\n",
    "\n",
    "# save list of predictors\n",
    "predictors = list(temp.columns)\n",
    "\n",
    "# generate files for regression\n",
    "inputs = prepare_data(temp, w=182, shift_w=182, adstock_L=10)\n",
    "print(f'{len(inputs)} windows generated')"
   ]
  },
  {
   "cell_type": "code",
   "execution_count": 4,
   "metadata": {},
   "outputs": [
    {
     "data": {
      "text/html": [
       "<div>\n",
       "<style scoped>\n",
       "    .dataframe tbody tr th:only-of-type {\n",
       "        vertical-align: middle;\n",
       "    }\n",
       "\n",
       "    .dataframe tbody tr th {\n",
       "        vertical-align: top;\n",
       "    }\n",
       "\n",
       "    .dataframe thead th {\n",
       "        text-align: right;\n",
       "    }\n",
       "</style>\n",
       "<table border=\"1\" class=\"dataframe\">\n",
       "  <thead>\n",
       "    <tr style=\"text-align: right;\">\n",
       "      <th></th>\n",
       "      <th></th>\n",
       "      <th>2020-12-22</th>\n",
       "      <th>2021-06-22</th>\n",
       "      <th>2021-12-21</th>\n",
       "      <th>2022-06-21</th>\n",
       "      <th>2022-12-20</th>\n",
       "      <th>2023-06-20</th>\n",
       "    </tr>\n",
       "  </thead>\n",
       "  <tbody>\n",
       "    <tr>\n",
       "      <th rowspan=\"7\" valign=\"top\">means</th>\n",
       "      <th>Meta</th>\n",
       "      <td>6471.073883</td>\n",
       "      <td>2511.131344</td>\n",
       "      <td>7840.714616</td>\n",
       "      <td>6869.135286</td>\n",
       "      <td>6359.150406</td>\n",
       "      <td>8704.350152</td>\n",
       "    </tr>\n",
       "    <tr>\n",
       "      <th>Display ads</th>\n",
       "      <td>1282.624419</td>\n",
       "      <td>198.720582</td>\n",
       "      <td>721.400765</td>\n",
       "      <td>513.870309</td>\n",
       "      <td>433.895991</td>\n",
       "      <td>742.323896</td>\n",
       "    </tr>\n",
       "    <tr>\n",
       "      <th>Google</th>\n",
       "      <td>1685.604077</td>\n",
       "      <td>1482.043512</td>\n",
       "      <td>2217.894249</td>\n",
       "      <td>3018.419257</td>\n",
       "      <td>3321.876152</td>\n",
       "      <td>1198.529834</td>\n",
       "    </tr>\n",
       "    <tr>\n",
       "      <th>Perf max</th>\n",
       "      <td>0.000000</td>\n",
       "      <td>0.000000</td>\n",
       "      <td>0.000000</td>\n",
       "      <td>0.011538</td>\n",
       "      <td>3332.724206</td>\n",
       "      <td>391.422473</td>\n",
       "    </tr>\n",
       "    <tr>\n",
       "      <th>Shopping</th>\n",
       "      <td>2773.366149</td>\n",
       "      <td>1360.026510</td>\n",
       "      <td>2688.334788</td>\n",
       "      <td>4736.552684</td>\n",
       "      <td>1134.484325</td>\n",
       "      <td>485.707857</td>\n",
       "    </tr>\n",
       "    <tr>\n",
       "      <th>Video ads</th>\n",
       "      <td>92.297227</td>\n",
       "      <td>44.680495</td>\n",
       "      <td>441.832803</td>\n",
       "      <td>2181.384482</td>\n",
       "      <td>386.953304</td>\n",
       "      <td>0.000000</td>\n",
       "    </tr>\n",
       "    <tr>\n",
       "      <th>new_customers</th>\n",
       "      <td>21.912088</td>\n",
       "      <td>17.609890</td>\n",
       "      <td>24.027473</td>\n",
       "      <td>21.846154</td>\n",
       "      <td>28.890110</td>\n",
       "      <td>20.208791</td>\n",
       "    </tr>\n",
       "    <tr>\n",
       "      <th rowspan=\"7\" valign=\"top\">counts</th>\n",
       "      <th>Meta</th>\n",
       "      <td>182.000000</td>\n",
       "      <td>182.000000</td>\n",
       "      <td>174.000000</td>\n",
       "      <td>182.000000</td>\n",
       "      <td>182.000000</td>\n",
       "      <td>175.000000</td>\n",
       "    </tr>\n",
       "    <tr>\n",
       "      <th>Display ads</th>\n",
       "      <td>182.000000</td>\n",
       "      <td>147.000000</td>\n",
       "      <td>182.000000</td>\n",
       "      <td>178.000000</td>\n",
       "      <td>175.000000</td>\n",
       "      <td>182.000000</td>\n",
       "    </tr>\n",
       "    <tr>\n",
       "      <th>Google</th>\n",
       "      <td>182.000000</td>\n",
       "      <td>182.000000</td>\n",
       "      <td>182.000000</td>\n",
       "      <td>182.000000</td>\n",
       "      <td>182.000000</td>\n",
       "      <td>182.000000</td>\n",
       "    </tr>\n",
       "    <tr>\n",
       "      <th>Perf max</th>\n",
       "      <td>0.000000</td>\n",
       "      <td>0.000000</td>\n",
       "      <td>0.000000</td>\n",
       "      <td>1.000000</td>\n",
       "      <td>182.000000</td>\n",
       "      <td>182.000000</td>\n",
       "    </tr>\n",
       "    <tr>\n",
       "      <th>Shopping</th>\n",
       "      <td>182.000000</td>\n",
       "      <td>182.000000</td>\n",
       "      <td>182.000000</td>\n",
       "      <td>182.000000</td>\n",
       "      <td>139.000000</td>\n",
       "      <td>182.000000</td>\n",
       "    </tr>\n",
       "    <tr>\n",
       "      <th>Video ads</th>\n",
       "      <td>128.000000</td>\n",
       "      <td>104.000000</td>\n",
       "      <td>176.000000</td>\n",
       "      <td>173.000000</td>\n",
       "      <td>93.000000</td>\n",
       "      <td>0.000000</td>\n",
       "    </tr>\n",
       "    <tr>\n",
       "      <th>new_customers</th>\n",
       "      <td>182.000000</td>\n",
       "      <td>182.000000</td>\n",
       "      <td>182.000000</td>\n",
       "      <td>182.000000</td>\n",
       "      <td>182.000000</td>\n",
       "      <td>182.000000</td>\n",
       "    </tr>\n",
       "  </tbody>\n",
       "</table>\n",
       "</div>"
      ],
      "text/plain": [
       "                       2020-12-22   2021-06-22   2021-12-21   2022-06-21  \\\n",
       "means  Meta           6471.073883  2511.131344  7840.714616  6869.135286   \n",
       "       Display ads    1282.624419   198.720582   721.400765   513.870309   \n",
       "       Google         1685.604077  1482.043512  2217.894249  3018.419257   \n",
       "       Perf max          0.000000     0.000000     0.000000     0.011538   \n",
       "       Shopping       2773.366149  1360.026510  2688.334788  4736.552684   \n",
       "       Video ads        92.297227    44.680495   441.832803  2181.384482   \n",
       "       new_customers    21.912088    17.609890    24.027473    21.846154   \n",
       "counts Meta            182.000000   182.000000   174.000000   182.000000   \n",
       "       Display ads     182.000000   147.000000   182.000000   178.000000   \n",
       "       Google          182.000000   182.000000   182.000000   182.000000   \n",
       "       Perf max          0.000000     0.000000     0.000000     1.000000   \n",
       "       Shopping        182.000000   182.000000   182.000000   182.000000   \n",
       "       Video ads       128.000000   104.000000   176.000000   173.000000   \n",
       "       new_customers   182.000000   182.000000   182.000000   182.000000   \n",
       "\n",
       "                       2022-12-20   2023-06-20  \n",
       "means  Meta           6359.150406  8704.350152  \n",
       "       Display ads     433.895991   742.323896  \n",
       "       Google         3321.876152  1198.529834  \n",
       "       Perf max       3332.724206   391.422473  \n",
       "       Shopping       1134.484325   485.707857  \n",
       "       Video ads       386.953304     0.000000  \n",
       "       new_customers    28.890110    20.208791  \n",
       "counts Meta            182.000000   175.000000  \n",
       "       Display ads     175.000000   182.000000  \n",
       "       Google          182.000000   182.000000  \n",
       "       Perf max        182.000000   182.000000  \n",
       "       Shopping        139.000000   182.000000  \n",
       "       Video ads        93.000000     0.000000  \n",
       "       new_customers   182.000000   182.000000  "
      ]
     },
     "execution_count": 4,
     "metadata": {},
     "output_type": "execute_result"
    }
   ],
   "source": [
    "keys, means, counts = [], [], []\n",
    "for dt in inputs:\n",
    "    temp = inputs[dt]['combo_raw'].copy()\n",
    "    keys.append(dt)\n",
    "    means.append(temp.mean(axis=0))\n",
    "    counts.append((temp != 0).sum(axis=0))\n",
    "temp = pd.concat([pd.concat(means, axis=1, keys=keys), \\\n",
    "                  pd.concat(counts, axis=1, keys=keys)], axis=0, keys=['means', 'counts'])\n",
    "temp"
   ]
  },
  {
   "attachments": {},
   "cell_type": "markdown",
   "metadata": {},
   "source": [
    "### Run regressions"
   ]
  },
  {
   "cell_type": "code",
   "execution_count": 5,
   "metadata": {},
   "outputs": [],
   "source": [
    "# normalise and get normalisation metrics so we can reverse them\n",
    "def get_scalers(inputs):\n",
    "    outputs = {}\n",
    "    for x in inputs:\n",
    "        combo = inputs[x]['combo'].copy()\n",
    "        scalers = {}\n",
    "        # initially normalised using mean and sigma, but negative spend values throw off PyMC\n",
    "        for col in combo.columns:\n",
    "            scalers[col] = {}\n",
    "            scalers[col]['mean'] = 0 #combo[col].min()\n",
    "            scalers[col]['std'] = combo[col].mean() - combo[col].min()\n",
    "            combo[col] = (combo[col] - scalers[col]['mean']) / scalers[col]['std']\n",
    "        outputs[x] = {}\n",
    "        outputs[x]['scalers'] = scalers\n",
    "        outputs[x]['scaled'] = combo\n",
    "    return outputs"
   ]
  },
  {
   "cell_type": "code",
   "execution_count": 6,
   "metadata": {},
   "outputs": [],
   "source": [
    "# saturation function used in https://youtu.be/UznM_-_760Y?t=471\n",
    "def logistic_saturation(x, mu: float = 0.5):\n",
    "    # x : Input tensor.\n",
    "    # mu : Saturation parameter.\n",
    "    return (1 - np.exp(-x * mu)) / (1 + np.exp(-x * mu))\n",
    "\n",
    "# ad stock function used in https://youtu.be/UznM_-_760Y?t=471\n",
    "def geometric_adstock_tt(x_t, alpha=0, L=84, normalize=True):\n",
    "    w = pt.tensor.as_tensor_variable([pt.tensor.power(alpha, i) for i in range(L)])\n",
    "    xx = pt.tensor.stack([pt.tensor.concatenate([pt.tensor.zeros(i), x_t[:x_t.shape[0] - i]]) for i in range(L)])\n",
    "    if not normalize:\n",
    "        y = pt.tensor.dot(w, xx)\n",
    "    else:\n",
    "        y = pt.tensor.dot(w / pt.tensor.sum(w), xx)\n",
    "    return y\n",
    "\n",
    "# See https://www.pymc-labs.io/blog-posts/reducing-customer-acquisition-costs-how-we-helped-optimizing-hellofreshs-marketing-budget/\n",
    "# https://github.com/pymc-labs/pymc-marketing/blob/main/pymc_marketing/mmm/transformers.py\n",
    "def tanh_saturation(x, b: float = 0.5, c: float = 0.5):\n",
    "    # x : Input tensor.\n",
    "    # b : Number of users at saturation. Must be non-negative.\n",
    "    # c : Initial cost per user. Must be non-zero.\n",
    "    return b * np.tanh(x / (b * c))\n",
    "\n",
    "# https://towardsdatascience.com/modeling-marketing-mix-using-pymc3-ba18dd9e6e68\n",
    "def hill_saturation(x, alpha, gamma): \n",
    "    return x ** alpha / (x ** alpha + gamma ** alpha)"
   ]
  },
  {
   "cell_type": "markdown",
   "metadata": {},
   "source": [
    "##### NB: the next cell runs MCMC ~ 45 minutes"
   ]
  },
  {
   "cell_type": "code",
   "execution_count": 7,
   "metadata": {},
   "outputs": [
    {
     "name": "stderr",
     "output_type": "stream",
     "text": [
      "Auto-assigning NUTS sampler...\n",
      "Initializing NUTS using jitter+adapt_diag...\n",
      "Multiprocess sampling (8 chains in 8 jobs)\n",
      "NUTS: [noise, Intercept, Meta, Display ads, Google, Shopping, Video ads]\n"
     ]
    },
    {
     "data": {
      "text/html": [
       "\n",
       "<style>\n",
       "    /* Turns off some styling */\n",
       "    progress {\n",
       "        /* gets rid of default border in Firefox and Opera. */\n",
       "        border: none;\n",
       "        /* Needs to be in here for Safari polyfill so background images work as expected. */\n",
       "        background-size: auto;\n",
       "    }\n",
       "    progress:not([value]), progress:not([value])::-webkit-progress-bar {\n",
       "        background: repeating-linear-gradient(45deg, #7e7e7e, #7e7e7e 10px, #5c5c5c 10px, #5c5c5c 20px);\n",
       "    }\n",
       "    .progress-bar-interrupted, .progress-bar-interrupted::-webkit-progress-bar {\n",
       "        background: #F44336;\n",
       "    }\n",
       "</style>\n"
      ],
      "text/plain": [
       "<IPython.core.display.HTML object>"
      ]
     },
     "metadata": {},
     "output_type": "display_data"
    },
    {
     "data": {
      "text/html": [
       "\n",
       "    <div>\n",
       "      <progress value='24000' class='' max='24000' style='width:300px; height:20px; vertical-align: middle;'></progress>\n",
       "      100.00% [24000/24000 00:30&lt;00:00 Sampling 8 chains, 72 divergences]\n",
       "    </div>\n",
       "    "
      ],
      "text/plain": [
       "<IPython.core.display.HTML object>"
      ]
     },
     "metadata": {},
     "output_type": "display_data"
    },
    {
     "name": "stderr",
     "output_type": "stream",
     "text": [
      "Sampling 8 chains for 1_000 tune and 2_000 draw iterations (8_000 + 16_000 draws total) took 31 seconds.\n",
      "There were 72 divergences after tuning. Increase `target_accept` or reparameterize.\n",
      "Auto-assigning NUTS sampler...\n",
      "Initializing NUTS using jitter+adapt_diag...\n",
      "Multiprocess sampling (8 chains in 8 jobs)\n",
      "NUTS: [noise, Intercept, Meta, Meta_adstock, Display ads, Google, Shopping, Video ads]\n"
     ]
    },
    {
     "data": {
      "text/html": [
       "\n",
       "<style>\n",
       "    /* Turns off some styling */\n",
       "    progress {\n",
       "        /* gets rid of default border in Firefox and Opera. */\n",
       "        border: none;\n",
       "        /* Needs to be in here for Safari polyfill so background images work as expected. */\n",
       "        background-size: auto;\n",
       "    }\n",
       "    progress:not([value]), progress:not([value])::-webkit-progress-bar {\n",
       "        background: repeating-linear-gradient(45deg, #7e7e7e, #7e7e7e 10px, #5c5c5c 10px, #5c5c5c 20px);\n",
       "    }\n",
       "    .progress-bar-interrupted, .progress-bar-interrupted::-webkit-progress-bar {\n",
       "        background: #F44336;\n",
       "    }\n",
       "</style>\n"
      ],
      "text/plain": [
       "<IPython.core.display.HTML object>"
      ]
     },
     "metadata": {},
     "output_type": "display_data"
    },
    {
     "data": {
      "text/html": [
       "\n",
       "    <div>\n",
       "      <progress value='24000' class='' max='24000' style='width:300px; height:20px; vertical-align: middle;'></progress>\n",
       "      100.00% [24000/24000 00:30&lt;00:00 Sampling 8 chains, 13 divergences]\n",
       "    </div>\n",
       "    "
      ],
      "text/plain": [
       "<IPython.core.display.HTML object>"
      ]
     },
     "metadata": {},
     "output_type": "display_data"
    },
    {
     "name": "stderr",
     "output_type": "stream",
     "text": [
      "Sampling 8 chains for 1_000 tune and 2_000 draw iterations (8_000 + 16_000 draws total) took 31 seconds.\n",
      "There were 13 divergences after tuning. Increase `target_accept` or reparameterize.\n",
      "Auto-assigning NUTS sampler...\n",
      "Initializing NUTS using jitter+adapt_diag...\n",
      "Multiprocess sampling (8 chains in 8 jobs)\n",
      "NUTS: [noise, Intercept, Meta, Meta_adstock, Display ads, Display ads_adstock, Google, Google_adstock, Shopping, Shopping_adstock, Video ads, Video ads_adstock]\n"
     ]
    },
    {
     "data": {
      "text/html": [
       "\n",
       "<style>\n",
       "    /* Turns off some styling */\n",
       "    progress {\n",
       "        /* gets rid of default border in Firefox and Opera. */\n",
       "        border: none;\n",
       "        /* Needs to be in here for Safari polyfill so background images work as expected. */\n",
       "        background-size: auto;\n",
       "    }\n",
       "    progress:not([value]), progress:not([value])::-webkit-progress-bar {\n",
       "        background: repeating-linear-gradient(45deg, #7e7e7e, #7e7e7e 10px, #5c5c5c 10px, #5c5c5c 20px);\n",
       "    }\n",
       "    .progress-bar-interrupted, .progress-bar-interrupted::-webkit-progress-bar {\n",
       "        background: #F44336;\n",
       "    }\n",
       "</style>\n"
      ],
      "text/plain": [
       "<IPython.core.display.HTML object>"
      ]
     },
     "metadata": {},
     "output_type": "display_data"
    },
    {
     "data": {
      "text/html": [
       "\n",
       "    <div>\n",
       "      <progress value='24000' class='' max='24000' style='width:300px; height:20px; vertical-align: middle;'></progress>\n",
       "      100.00% [24000/24000 00:35&lt;00:00 Sampling 8 chains, 12 divergences]\n",
       "    </div>\n",
       "    "
      ],
      "text/plain": [
       "<IPython.core.display.HTML object>"
      ]
     },
     "metadata": {},
     "output_type": "display_data"
    },
    {
     "name": "stderr",
     "output_type": "stream",
     "text": [
      "Sampling 8 chains for 1_000 tune and 2_000 draw iterations (8_000 + 16_000 draws total) took 36 seconds.\n",
      "There were 12 divergences after tuning. Increase `target_accept` or reparameterize.\n",
      "Auto-assigning NUTS sampler...\n",
      "Initializing NUTS using jitter+adapt_diag...\n",
      "Multiprocess sampling (8 chains in 8 jobs)\n",
      "NUTS: [noise, Intercept, Meta_adstock, Display ads_adstock, Google_adstock, Shopping_adstock, Video ads_adstock]\n"
     ]
    },
    {
     "data": {
      "text/html": [
       "\n",
       "<style>\n",
       "    /* Turns off some styling */\n",
       "    progress {\n",
       "        /* gets rid of default border in Firefox and Opera. */\n",
       "        border: none;\n",
       "        /* Needs to be in here for Safari polyfill so background images work as expected. */\n",
       "        background-size: auto;\n",
       "    }\n",
       "    progress:not([value]), progress:not([value])::-webkit-progress-bar {\n",
       "        background: repeating-linear-gradient(45deg, #7e7e7e, #7e7e7e 10px, #5c5c5c 10px, #5c5c5c 20px);\n",
       "    }\n",
       "    .progress-bar-interrupted, .progress-bar-interrupted::-webkit-progress-bar {\n",
       "        background: #F44336;\n",
       "    }\n",
       "</style>\n"
      ],
      "text/plain": [
       "<IPython.core.display.HTML object>"
      ]
     },
     "metadata": {},
     "output_type": "display_data"
    },
    {
     "data": {
      "text/html": [
       "\n",
       "    <div>\n",
       "      <progress value='24000' class='' max='24000' style='width:300px; height:20px; vertical-align: middle;'></progress>\n",
       "      100.00% [24000/24000 00:26&lt;00:00 Sampling 8 chains, 52 divergences]\n",
       "    </div>\n",
       "    "
      ],
      "text/plain": [
       "<IPython.core.display.HTML object>"
      ]
     },
     "metadata": {},
     "output_type": "display_data"
    },
    {
     "name": "stderr",
     "output_type": "stream",
     "text": [
      "Sampling 8 chains for 1_000 tune and 2_000 draw iterations (8_000 + 16_000 draws total) took 26 seconds.\n",
      "There were 52 divergences after tuning. Increase `target_accept` or reparameterize.\n",
      "Auto-assigning NUTS sampler...\n",
      "Initializing NUTS using jitter+adapt_diag...\n",
      "Multiprocess sampling (8 chains in 8 jobs)\n",
      "NUTS: [noise, Intercept, Meta, Display ads, Google, Shopping, Video ads]\n"
     ]
    },
    {
     "data": {
      "text/html": [
       "\n",
       "<style>\n",
       "    /* Turns off some styling */\n",
       "    progress {\n",
       "        /* gets rid of default border in Firefox and Opera. */\n",
       "        border: none;\n",
       "        /* Needs to be in here for Safari polyfill so background images work as expected. */\n",
       "        background-size: auto;\n",
       "    }\n",
       "    progress:not([value]), progress:not([value])::-webkit-progress-bar {\n",
       "        background: repeating-linear-gradient(45deg, #7e7e7e, #7e7e7e 10px, #5c5c5c 10px, #5c5c5c 20px);\n",
       "    }\n",
       "    .progress-bar-interrupted, .progress-bar-interrupted::-webkit-progress-bar {\n",
       "        background: #F44336;\n",
       "    }\n",
       "</style>\n"
      ],
      "text/plain": [
       "<IPython.core.display.HTML object>"
      ]
     },
     "metadata": {},
     "output_type": "display_data"
    },
    {
     "data": {
      "text/html": [
       "\n",
       "    <div>\n",
       "      <progress value='24000' class='' max='24000' style='width:300px; height:20px; vertical-align: middle;'></progress>\n",
       "      100.00% [24000/24000 00:37&lt;00:00 Sampling 8 chains, 0 divergences]\n",
       "    </div>\n",
       "    "
      ],
      "text/plain": [
       "<IPython.core.display.HTML object>"
      ]
     },
     "metadata": {},
     "output_type": "display_data"
    },
    {
     "name": "stderr",
     "output_type": "stream",
     "text": [
      "Sampling 8 chains for 1_000 tune and 2_000 draw iterations (8_000 + 16_000 draws total) took 37 seconds.\n",
      "Auto-assigning NUTS sampler...\n",
      "Initializing NUTS using jitter+adapt_diag...\n",
      "Multiprocess sampling (8 chains in 8 jobs)\n",
      "NUTS: [noise, Intercept, Meta, Meta_adstock, Display ads, Google, Shopping, Video ads]\n"
     ]
    },
    {
     "data": {
      "text/html": [
       "\n",
       "<style>\n",
       "    /* Turns off some styling */\n",
       "    progress {\n",
       "        /* gets rid of default border in Firefox and Opera. */\n",
       "        border: none;\n",
       "        /* Needs to be in here for Safari polyfill so background images work as expected. */\n",
       "        background-size: auto;\n",
       "    }\n",
       "    progress:not([value]), progress:not([value])::-webkit-progress-bar {\n",
       "        background: repeating-linear-gradient(45deg, #7e7e7e, #7e7e7e 10px, #5c5c5c 10px, #5c5c5c 20px);\n",
       "    }\n",
       "    .progress-bar-interrupted, .progress-bar-interrupted::-webkit-progress-bar {\n",
       "        background: #F44336;\n",
       "    }\n",
       "</style>\n"
      ],
      "text/plain": [
       "<IPython.core.display.HTML object>"
      ]
     },
     "metadata": {},
     "output_type": "display_data"
    },
    {
     "data": {
      "text/html": [
       "\n",
       "    <div>\n",
       "      <progress value='24000' class='' max='24000' style='width:300px; height:20px; vertical-align: middle;'></progress>\n",
       "      100.00% [24000/24000 00:28&lt;00:00 Sampling 8 chains, 2 divergences]\n",
       "    </div>\n",
       "    "
      ],
      "text/plain": [
       "<IPython.core.display.HTML object>"
      ]
     },
     "metadata": {},
     "output_type": "display_data"
    },
    {
     "name": "stderr",
     "output_type": "stream",
     "text": [
      "Sampling 8 chains for 1_000 tune and 2_000 draw iterations (8_000 + 16_000 draws total) took 29 seconds.\n",
      "There were 2 divergences after tuning. Increase `target_accept` or reparameterize.\n",
      "Auto-assigning NUTS sampler...\n",
      "Initializing NUTS using jitter+adapt_diag...\n",
      "Multiprocess sampling (8 chains in 8 jobs)\n",
      "NUTS: [noise, Intercept, Meta, Meta_adstock, Display ads, Display ads_adstock, Google, Google_adstock, Shopping, Shopping_adstock, Video ads, Video ads_adstock]\n"
     ]
    },
    {
     "data": {
      "text/html": [
       "\n",
       "<style>\n",
       "    /* Turns off some styling */\n",
       "    progress {\n",
       "        /* gets rid of default border in Firefox and Opera. */\n",
       "        border: none;\n",
       "        /* Needs to be in here for Safari polyfill so background images work as expected. */\n",
       "        background-size: auto;\n",
       "    }\n",
       "    progress:not([value]), progress:not([value])::-webkit-progress-bar {\n",
       "        background: repeating-linear-gradient(45deg, #7e7e7e, #7e7e7e 10px, #5c5c5c 10px, #5c5c5c 20px);\n",
       "    }\n",
       "    .progress-bar-interrupted, .progress-bar-interrupted::-webkit-progress-bar {\n",
       "        background: #F44336;\n",
       "    }\n",
       "</style>\n"
      ],
      "text/plain": [
       "<IPython.core.display.HTML object>"
      ]
     },
     "metadata": {},
     "output_type": "display_data"
    },
    {
     "data": {
      "text/html": [
       "\n",
       "    <div>\n",
       "      <progress value='24000' class='' max='24000' style='width:300px; height:20px; vertical-align: middle;'></progress>\n",
       "      100.00% [24000/24000 00:37&lt;00:00 Sampling 8 chains, 5 divergences]\n",
       "    </div>\n",
       "    "
      ],
      "text/plain": [
       "<IPython.core.display.HTML object>"
      ]
     },
     "metadata": {},
     "output_type": "display_data"
    },
    {
     "name": "stderr",
     "output_type": "stream",
     "text": [
      "Sampling 8 chains for 1_000 tune and 2_000 draw iterations (8_000 + 16_000 draws total) took 37 seconds.\n",
      "There were 5 divergences after tuning. Increase `target_accept` or reparameterize.\n",
      "Auto-assigning NUTS sampler...\n",
      "Initializing NUTS using jitter+adapt_diag...\n",
      "Multiprocess sampling (8 chains in 8 jobs)\n",
      "NUTS: [noise, Intercept, Meta_adstock, Display ads_adstock, Google_adstock, Shopping_adstock, Video ads_adstock]\n"
     ]
    },
    {
     "data": {
      "text/html": [
       "\n",
       "<style>\n",
       "    /* Turns off some styling */\n",
       "    progress {\n",
       "        /* gets rid of default border in Firefox and Opera. */\n",
       "        border: none;\n",
       "        /* Needs to be in here for Safari polyfill so background images work as expected. */\n",
       "        background-size: auto;\n",
       "    }\n",
       "    progress:not([value]), progress:not([value])::-webkit-progress-bar {\n",
       "        background: repeating-linear-gradient(45deg, #7e7e7e, #7e7e7e 10px, #5c5c5c 10px, #5c5c5c 20px);\n",
       "    }\n",
       "    .progress-bar-interrupted, .progress-bar-interrupted::-webkit-progress-bar {\n",
       "        background: #F44336;\n",
       "    }\n",
       "</style>\n"
      ],
      "text/plain": [
       "<IPython.core.display.HTML object>"
      ]
     },
     "metadata": {},
     "output_type": "display_data"
    },
    {
     "data": {
      "text/html": [
       "\n",
       "    <div>\n",
       "      <progress value='24000' class='' max='24000' style='width:300px; height:20px; vertical-align: middle;'></progress>\n",
       "      100.00% [24000/24000 00:26&lt;00:00 Sampling 8 chains, 0 divergences]\n",
       "    </div>\n",
       "    "
      ],
      "text/plain": [
       "<IPython.core.display.HTML object>"
      ]
     },
     "metadata": {},
     "output_type": "display_data"
    },
    {
     "name": "stderr",
     "output_type": "stream",
     "text": [
      "Sampling 8 chains for 1_000 tune and 2_000 draw iterations (8_000 + 16_000 draws total) took 26 seconds.\n",
      "Auto-assigning NUTS sampler...\n",
      "Initializing NUTS using jitter+adapt_diag...\n",
      "Multiprocess sampling (8 chains in 8 jobs)\n",
      "NUTS: [noise, Intercept, Meta, Display ads, Google, Shopping, Video ads]\n"
     ]
    },
    {
     "data": {
      "text/html": [
       "\n",
       "<style>\n",
       "    /* Turns off some styling */\n",
       "    progress {\n",
       "        /* gets rid of default border in Firefox and Opera. */\n",
       "        border: none;\n",
       "        /* Needs to be in here for Safari polyfill so background images work as expected. */\n",
       "        background-size: auto;\n",
       "    }\n",
       "    progress:not([value]), progress:not([value])::-webkit-progress-bar {\n",
       "        background: repeating-linear-gradient(45deg, #7e7e7e, #7e7e7e 10px, #5c5c5c 10px, #5c5c5c 20px);\n",
       "    }\n",
       "    .progress-bar-interrupted, .progress-bar-interrupted::-webkit-progress-bar {\n",
       "        background: #F44336;\n",
       "    }\n",
       "</style>\n"
      ],
      "text/plain": [
       "<IPython.core.display.HTML object>"
      ]
     },
     "metadata": {},
     "output_type": "display_data"
    },
    {
     "data": {
      "text/html": [
       "\n",
       "    <div>\n",
       "      <progress value='24000' class='' max='24000' style='width:300px; height:20px; vertical-align: middle;'></progress>\n",
       "      100.00% [24000/24000 00:28&lt;00:00 Sampling 8 chains, 1 divergences]\n",
       "    </div>\n",
       "    "
      ],
      "text/plain": [
       "<IPython.core.display.HTML object>"
      ]
     },
     "metadata": {},
     "output_type": "display_data"
    },
    {
     "name": "stderr",
     "output_type": "stream",
     "text": [
      "Sampling 8 chains for 1_000 tune and 2_000 draw iterations (8_000 + 16_000 draws total) took 28 seconds.\n",
      "There were 1 divergences after tuning. Increase `target_accept` or reparameterize.\n",
      "Auto-assigning NUTS sampler...\n",
      "Initializing NUTS using jitter+adapt_diag...\n",
      "Multiprocess sampling (8 chains in 8 jobs)\n",
      "NUTS: [noise, Intercept, Meta, Meta_adstock, Display ads, Google, Shopping, Video ads]\n"
     ]
    },
    {
     "data": {
      "text/html": [
       "\n",
       "<style>\n",
       "    /* Turns off some styling */\n",
       "    progress {\n",
       "        /* gets rid of default border in Firefox and Opera. */\n",
       "        border: none;\n",
       "        /* Needs to be in here for Safari polyfill so background images work as expected. */\n",
       "        background-size: auto;\n",
       "    }\n",
       "    progress:not([value]), progress:not([value])::-webkit-progress-bar {\n",
       "        background: repeating-linear-gradient(45deg, #7e7e7e, #7e7e7e 10px, #5c5c5c 10px, #5c5c5c 20px);\n",
       "    }\n",
       "    .progress-bar-interrupted, .progress-bar-interrupted::-webkit-progress-bar {\n",
       "        background: #F44336;\n",
       "    }\n",
       "</style>\n"
      ],
      "text/plain": [
       "<IPython.core.display.HTML object>"
      ]
     },
     "metadata": {},
     "output_type": "display_data"
    },
    {
     "data": {
      "text/html": [
       "\n",
       "    <div>\n",
       "      <progress value='24000' class='' max='24000' style='width:300px; height:20px; vertical-align: middle;'></progress>\n",
       "      100.00% [24000/24000 00:26&lt;00:00 Sampling 8 chains, 2 divergences]\n",
       "    </div>\n",
       "    "
      ],
      "text/plain": [
       "<IPython.core.display.HTML object>"
      ]
     },
     "metadata": {},
     "output_type": "display_data"
    },
    {
     "name": "stderr",
     "output_type": "stream",
     "text": [
      "Sampling 8 chains for 1_000 tune and 2_000 draw iterations (8_000 + 16_000 draws total) took 26 seconds.\n",
      "There were 2 divergences after tuning. Increase `target_accept` or reparameterize.\n",
      "Auto-assigning NUTS sampler...\n",
      "Initializing NUTS using jitter+adapt_diag...\n",
      "Multiprocess sampling (8 chains in 8 jobs)\n",
      "NUTS: [noise, Intercept, Meta, Meta_adstock, Display ads, Display ads_adstock, Google, Google_adstock, Shopping, Shopping_adstock, Video ads, Video ads_adstock]\n"
     ]
    },
    {
     "data": {
      "text/html": [
       "\n",
       "<style>\n",
       "    /* Turns off some styling */\n",
       "    progress {\n",
       "        /* gets rid of default border in Firefox and Opera. */\n",
       "        border: none;\n",
       "        /* Needs to be in here for Safari polyfill so background images work as expected. */\n",
       "        background-size: auto;\n",
       "    }\n",
       "    progress:not([value]), progress:not([value])::-webkit-progress-bar {\n",
       "        background: repeating-linear-gradient(45deg, #7e7e7e, #7e7e7e 10px, #5c5c5c 10px, #5c5c5c 20px);\n",
       "    }\n",
       "    .progress-bar-interrupted, .progress-bar-interrupted::-webkit-progress-bar {\n",
       "        background: #F44336;\n",
       "    }\n",
       "</style>\n"
      ],
      "text/plain": [
       "<IPython.core.display.HTML object>"
      ]
     },
     "metadata": {},
     "output_type": "display_data"
    },
    {
     "data": {
      "text/html": [
       "\n",
       "    <div>\n",
       "      <progress value='24000' class='' max='24000' style='width:300px; height:20px; vertical-align: middle;'></progress>\n",
       "      100.00% [24000/24000 00:38&lt;00:00 Sampling 8 chains, 1 divergences]\n",
       "    </div>\n",
       "    "
      ],
      "text/plain": [
       "<IPython.core.display.HTML object>"
      ]
     },
     "metadata": {},
     "output_type": "display_data"
    },
    {
     "name": "stderr",
     "output_type": "stream",
     "text": [
      "Sampling 8 chains for 1_000 tune and 2_000 draw iterations (8_000 + 16_000 draws total) took 39 seconds.\n",
      "There were 1 divergences after tuning. Increase `target_accept` or reparameterize.\n",
      "Auto-assigning NUTS sampler...\n",
      "Initializing NUTS using jitter+adapt_diag...\n",
      "Multiprocess sampling (8 chains in 8 jobs)\n",
      "NUTS: [noise, Intercept, Meta_adstock, Display ads_adstock, Google_adstock, Shopping_adstock, Video ads_adstock]\n"
     ]
    },
    {
     "data": {
      "text/html": [
       "\n",
       "<style>\n",
       "    /* Turns off some styling */\n",
       "    progress {\n",
       "        /* gets rid of default border in Firefox and Opera. */\n",
       "        border: none;\n",
       "        /* Needs to be in here for Safari polyfill so background images work as expected. */\n",
       "        background-size: auto;\n",
       "    }\n",
       "    progress:not([value]), progress:not([value])::-webkit-progress-bar {\n",
       "        background: repeating-linear-gradient(45deg, #7e7e7e, #7e7e7e 10px, #5c5c5c 10px, #5c5c5c 20px);\n",
       "    }\n",
       "    .progress-bar-interrupted, .progress-bar-interrupted::-webkit-progress-bar {\n",
       "        background: #F44336;\n",
       "    }\n",
       "</style>\n"
      ],
      "text/plain": [
       "<IPython.core.display.HTML object>"
      ]
     },
     "metadata": {},
     "output_type": "display_data"
    },
    {
     "data": {
      "text/html": [
       "\n",
       "    <div>\n",
       "      <progress value='24000' class='' max='24000' style='width:300px; height:20px; vertical-align: middle;'></progress>\n",
       "      100.00% [24000/24000 00:34&lt;00:00 Sampling 8 chains, 14 divergences]\n",
       "    </div>\n",
       "    "
      ],
      "text/plain": [
       "<IPython.core.display.HTML object>"
      ]
     },
     "metadata": {},
     "output_type": "display_data"
    },
    {
     "name": "stderr",
     "output_type": "stream",
     "text": [
      "Sampling 8 chains for 1_000 tune and 2_000 draw iterations (8_000 + 16_000 draws total) took 34 seconds.\n",
      "There were 14 divergences after tuning. Increase `target_accept` or reparameterize.\n",
      "Auto-assigning NUTS sampler...\n",
      "Initializing NUTS using jitter+adapt_diag...\n",
      "Multiprocess sampling (8 chains in 8 jobs)\n",
      "NUTS: [noise, Intercept, Meta, Display ads, Google, Shopping, Video ads]\n"
     ]
    },
    {
     "data": {
      "text/html": [
       "\n",
       "<style>\n",
       "    /* Turns off some styling */\n",
       "    progress {\n",
       "        /* gets rid of default border in Firefox and Opera. */\n",
       "        border: none;\n",
       "        /* Needs to be in here for Safari polyfill so background images work as expected. */\n",
       "        background-size: auto;\n",
       "    }\n",
       "    progress:not([value]), progress:not([value])::-webkit-progress-bar {\n",
       "        background: repeating-linear-gradient(45deg, #7e7e7e, #7e7e7e 10px, #5c5c5c 10px, #5c5c5c 20px);\n",
       "    }\n",
       "    .progress-bar-interrupted, .progress-bar-interrupted::-webkit-progress-bar {\n",
       "        background: #F44336;\n",
       "    }\n",
       "</style>\n"
      ],
      "text/plain": [
       "<IPython.core.display.HTML object>"
      ]
     },
     "metadata": {},
     "output_type": "display_data"
    },
    {
     "data": {
      "text/html": [
       "\n",
       "    <div>\n",
       "      <progress value='24000' class='' max='24000' style='width:300px; height:20px; vertical-align: middle;'></progress>\n",
       "      100.00% [24000/24000 00:30&lt;00:00 Sampling 8 chains, 2 divergences]\n",
       "    </div>\n",
       "    "
      ],
      "text/plain": [
       "<IPython.core.display.HTML object>"
      ]
     },
     "metadata": {},
     "output_type": "display_data"
    },
    {
     "name": "stderr",
     "output_type": "stream",
     "text": [
      "Sampling 8 chains for 1_000 tune and 2_000 draw iterations (8_000 + 16_000 draws total) took 30 seconds.\n",
      "There were 2 divergences after tuning. Increase `target_accept` or reparameterize.\n",
      "Auto-assigning NUTS sampler...\n",
      "Initializing NUTS using jitter+adapt_diag...\n",
      "Multiprocess sampling (8 chains in 8 jobs)\n",
      "NUTS: [noise, Intercept, Meta, Meta_adstock, Display ads, Google, Shopping, Video ads]\n"
     ]
    },
    {
     "data": {
      "text/html": [
       "\n",
       "<style>\n",
       "    /* Turns off some styling */\n",
       "    progress {\n",
       "        /* gets rid of default border in Firefox and Opera. */\n",
       "        border: none;\n",
       "        /* Needs to be in here for Safari polyfill so background images work as expected. */\n",
       "        background-size: auto;\n",
       "    }\n",
       "    progress:not([value]), progress:not([value])::-webkit-progress-bar {\n",
       "        background: repeating-linear-gradient(45deg, #7e7e7e, #7e7e7e 10px, #5c5c5c 10px, #5c5c5c 20px);\n",
       "    }\n",
       "    .progress-bar-interrupted, .progress-bar-interrupted::-webkit-progress-bar {\n",
       "        background: #F44336;\n",
       "    }\n",
       "</style>\n"
      ],
      "text/plain": [
       "<IPython.core.display.HTML object>"
      ]
     },
     "metadata": {},
     "output_type": "display_data"
    },
    {
     "data": {
      "text/html": [
       "\n",
       "    <div>\n",
       "      <progress value='24000' class='' max='24000' style='width:300px; height:20px; vertical-align: middle;'></progress>\n",
       "      100.00% [24000/24000 00:33&lt;00:00 Sampling 8 chains, 3 divergences]\n",
       "    </div>\n",
       "    "
      ],
      "text/plain": [
       "<IPython.core.display.HTML object>"
      ]
     },
     "metadata": {},
     "output_type": "display_data"
    },
    {
     "name": "stderr",
     "output_type": "stream",
     "text": [
      "Sampling 8 chains for 1_000 tune and 2_000 draw iterations (8_000 + 16_000 draws total) took 34 seconds.\n",
      "There were 3 divergences after tuning. Increase `target_accept` or reparameterize.\n",
      "Auto-assigning NUTS sampler...\n",
      "Initializing NUTS using jitter+adapt_diag...\n",
      "Multiprocess sampling (8 chains in 8 jobs)\n",
      "NUTS: [noise, Intercept, Meta, Meta_adstock, Display ads, Display ads_adstock, Google, Google_adstock, Shopping, Shopping_adstock, Video ads, Video ads_adstock]\n"
     ]
    },
    {
     "data": {
      "text/html": [
       "\n",
       "<style>\n",
       "    /* Turns off some styling */\n",
       "    progress {\n",
       "        /* gets rid of default border in Firefox and Opera. */\n",
       "        border: none;\n",
       "        /* Needs to be in here for Safari polyfill so background images work as expected. */\n",
       "        background-size: auto;\n",
       "    }\n",
       "    progress:not([value]), progress:not([value])::-webkit-progress-bar {\n",
       "        background: repeating-linear-gradient(45deg, #7e7e7e, #7e7e7e 10px, #5c5c5c 10px, #5c5c5c 20px);\n",
       "    }\n",
       "    .progress-bar-interrupted, .progress-bar-interrupted::-webkit-progress-bar {\n",
       "        background: #F44336;\n",
       "    }\n",
       "</style>\n"
      ],
      "text/plain": [
       "<IPython.core.display.HTML object>"
      ]
     },
     "metadata": {},
     "output_type": "display_data"
    },
    {
     "data": {
      "text/html": [
       "\n",
       "    <div>\n",
       "      <progress value='24000' class='' max='24000' style='width:300px; height:20px; vertical-align: middle;'></progress>\n",
       "      100.00% [24000/24000 00:45&lt;00:00 Sampling 8 chains, 2 divergences]\n",
       "    </div>\n",
       "    "
      ],
      "text/plain": [
       "<IPython.core.display.HTML object>"
      ]
     },
     "metadata": {},
     "output_type": "display_data"
    },
    {
     "name": "stderr",
     "output_type": "stream",
     "text": [
      "Sampling 8 chains for 1_000 tune and 2_000 draw iterations (8_000 + 16_000 draws total) took 46 seconds.\n",
      "There were 2 divergences after tuning. Increase `target_accept` or reparameterize.\n",
      "Auto-assigning NUTS sampler...\n",
      "Initializing NUTS using jitter+adapt_diag...\n",
      "Multiprocess sampling (8 chains in 8 jobs)\n",
      "NUTS: [noise, Intercept, Meta_adstock, Display ads_adstock, Google_adstock, Shopping_adstock, Video ads_adstock]\n"
     ]
    },
    {
     "data": {
      "text/html": [
       "\n",
       "<style>\n",
       "    /* Turns off some styling */\n",
       "    progress {\n",
       "        /* gets rid of default border in Firefox and Opera. */\n",
       "        border: none;\n",
       "        /* Needs to be in here for Safari polyfill so background images work as expected. */\n",
       "        background-size: auto;\n",
       "    }\n",
       "    progress:not([value]), progress:not([value])::-webkit-progress-bar {\n",
       "        background: repeating-linear-gradient(45deg, #7e7e7e, #7e7e7e 10px, #5c5c5c 10px, #5c5c5c 20px);\n",
       "    }\n",
       "    .progress-bar-interrupted, .progress-bar-interrupted::-webkit-progress-bar {\n",
       "        background: #F44336;\n",
       "    }\n",
       "</style>\n"
      ],
      "text/plain": [
       "<IPython.core.display.HTML object>"
      ]
     },
     "metadata": {},
     "output_type": "display_data"
    },
    {
     "data": {
      "text/html": [
       "\n",
       "    <div>\n",
       "      <progress value='24000' class='' max='24000' style='width:300px; height:20px; vertical-align: middle;'></progress>\n",
       "      100.00% [24000/24000 00:33&lt;00:00 Sampling 8 chains, 2 divergences]\n",
       "    </div>\n",
       "    "
      ],
      "text/plain": [
       "<IPython.core.display.HTML object>"
      ]
     },
     "metadata": {},
     "output_type": "display_data"
    },
    {
     "name": "stderr",
     "output_type": "stream",
     "text": [
      "Sampling 8 chains for 1_000 tune and 2_000 draw iterations (8_000 + 16_000 draws total) took 34 seconds.\n",
      "There were 2 divergences after tuning. Increase `target_accept` or reparameterize.\n",
      "Auto-assigning NUTS sampler...\n",
      "Initializing NUTS using jitter+adapt_diag...\n",
      "Multiprocess sampling (8 chains in 8 jobs)\n",
      "NUTS: [noise, Intercept, Meta, Display ads, Google, Perf max, Shopping, Video ads]\n"
     ]
    },
    {
     "data": {
      "text/html": [
       "\n",
       "<style>\n",
       "    /* Turns off some styling */\n",
       "    progress {\n",
       "        /* gets rid of default border in Firefox and Opera. */\n",
       "        border: none;\n",
       "        /* Needs to be in here for Safari polyfill so background images work as expected. */\n",
       "        background-size: auto;\n",
       "    }\n",
       "    progress:not([value]), progress:not([value])::-webkit-progress-bar {\n",
       "        background: repeating-linear-gradient(45deg, #7e7e7e, #7e7e7e 10px, #5c5c5c 10px, #5c5c5c 20px);\n",
       "    }\n",
       "    .progress-bar-interrupted, .progress-bar-interrupted::-webkit-progress-bar {\n",
       "        background: #F44336;\n",
       "    }\n",
       "</style>\n"
      ],
      "text/plain": [
       "<IPython.core.display.HTML object>"
      ]
     },
     "metadata": {},
     "output_type": "display_data"
    },
    {
     "data": {
      "text/html": [
       "\n",
       "    <div>\n",
       "      <progress value='24000' class='' max='24000' style='width:300px; height:20px; vertical-align: middle;'></progress>\n",
       "      100.00% [24000/24000 00:30&lt;00:00 Sampling 8 chains, 0 divergences]\n",
       "    </div>\n",
       "    "
      ],
      "text/plain": [
       "<IPython.core.display.HTML object>"
      ]
     },
     "metadata": {},
     "output_type": "display_data"
    },
    {
     "name": "stderr",
     "output_type": "stream",
     "text": [
      "Sampling 8 chains for 1_000 tune and 2_000 draw iterations (8_000 + 16_000 draws total) took 31 seconds.\n",
      "Auto-assigning NUTS sampler...\n",
      "Initializing NUTS using jitter+adapt_diag...\n",
      "Multiprocess sampling (8 chains in 8 jobs)\n",
      "NUTS: [noise, Intercept, Meta, Meta_adstock, Display ads, Google, Perf max, Shopping, Video ads]\n"
     ]
    },
    {
     "data": {
      "text/html": [
       "\n",
       "<style>\n",
       "    /* Turns off some styling */\n",
       "    progress {\n",
       "        /* gets rid of default border in Firefox and Opera. */\n",
       "        border: none;\n",
       "        /* Needs to be in here for Safari polyfill so background images work as expected. */\n",
       "        background-size: auto;\n",
       "    }\n",
       "    progress:not([value]), progress:not([value])::-webkit-progress-bar {\n",
       "        background: repeating-linear-gradient(45deg, #7e7e7e, #7e7e7e 10px, #5c5c5c 10px, #5c5c5c 20px);\n",
       "    }\n",
       "    .progress-bar-interrupted, .progress-bar-interrupted::-webkit-progress-bar {\n",
       "        background: #F44336;\n",
       "    }\n",
       "</style>\n"
      ],
      "text/plain": [
       "<IPython.core.display.HTML object>"
      ]
     },
     "metadata": {},
     "output_type": "display_data"
    },
    {
     "data": {
      "text/html": [
       "\n",
       "    <div>\n",
       "      <progress value='24000' class='' max='24000' style='width:300px; height:20px; vertical-align: middle;'></progress>\n",
       "      100.00% [24000/24000 00:32&lt;00:00 Sampling 8 chains, 1 divergences]\n",
       "    </div>\n",
       "    "
      ],
      "text/plain": [
       "<IPython.core.display.HTML object>"
      ]
     },
     "metadata": {},
     "output_type": "display_data"
    },
    {
     "name": "stderr",
     "output_type": "stream",
     "text": [
      "Sampling 8 chains for 1_000 tune and 2_000 draw iterations (8_000 + 16_000 draws total) took 33 seconds.\n",
      "There were 1 divergences after tuning. Increase `target_accept` or reparameterize.\n",
      "Auto-assigning NUTS sampler...\n",
      "Initializing NUTS using jitter+adapt_diag...\n",
      "Multiprocess sampling (8 chains in 8 jobs)\n",
      "NUTS: [noise, Intercept, Meta, Meta_adstock, Display ads, Display ads_adstock, Google, Google_adstock, Perf max, Perf max_adstock, Shopping, Shopping_adstock, Video ads, Video ads_adstock]\n"
     ]
    },
    {
     "data": {
      "text/html": [
       "\n",
       "<style>\n",
       "    /* Turns off some styling */\n",
       "    progress {\n",
       "        /* gets rid of default border in Firefox and Opera. */\n",
       "        border: none;\n",
       "        /* Needs to be in here for Safari polyfill so background images work as expected. */\n",
       "        background-size: auto;\n",
       "    }\n",
       "    progress:not([value]), progress:not([value])::-webkit-progress-bar {\n",
       "        background: repeating-linear-gradient(45deg, #7e7e7e, #7e7e7e 10px, #5c5c5c 10px, #5c5c5c 20px);\n",
       "    }\n",
       "    .progress-bar-interrupted, .progress-bar-interrupted::-webkit-progress-bar {\n",
       "        background: #F44336;\n",
       "    }\n",
       "</style>\n"
      ],
      "text/plain": [
       "<IPython.core.display.HTML object>"
      ]
     },
     "metadata": {},
     "output_type": "display_data"
    },
    {
     "data": {
      "text/html": [
       "\n",
       "    <div>\n",
       "      <progress value='24000' class='' max='24000' style='width:300px; height:20px; vertical-align: middle;'></progress>\n",
       "      100.00% [24000/24000 00:47&lt;00:00 Sampling 8 chains, 2 divergences]\n",
       "    </div>\n",
       "    "
      ],
      "text/plain": [
       "<IPython.core.display.HTML object>"
      ]
     },
     "metadata": {},
     "output_type": "display_data"
    },
    {
     "name": "stderr",
     "output_type": "stream",
     "text": [
      "Sampling 8 chains for 1_000 tune and 2_000 draw iterations (8_000 + 16_000 draws total) took 47 seconds.\n",
      "There were 2 divergences after tuning. Increase `target_accept` or reparameterize.\n",
      "Auto-assigning NUTS sampler...\n",
      "Initializing NUTS using jitter+adapt_diag...\n",
      "Multiprocess sampling (8 chains in 8 jobs)\n",
      "NUTS: [noise, Intercept, Meta_adstock, Display ads_adstock, Google_adstock, Perf max_adstock, Shopping_adstock, Video ads_adstock]\n"
     ]
    },
    {
     "data": {
      "text/html": [
       "\n",
       "<style>\n",
       "    /* Turns off some styling */\n",
       "    progress {\n",
       "        /* gets rid of default border in Firefox and Opera. */\n",
       "        border: none;\n",
       "        /* Needs to be in here for Safari polyfill so background images work as expected. */\n",
       "        background-size: auto;\n",
       "    }\n",
       "    progress:not([value]), progress:not([value])::-webkit-progress-bar {\n",
       "        background: repeating-linear-gradient(45deg, #7e7e7e, #7e7e7e 10px, #5c5c5c 10px, #5c5c5c 20px);\n",
       "    }\n",
       "    .progress-bar-interrupted, .progress-bar-interrupted::-webkit-progress-bar {\n",
       "        background: #F44336;\n",
       "    }\n",
       "</style>\n"
      ],
      "text/plain": [
       "<IPython.core.display.HTML object>"
      ]
     },
     "metadata": {},
     "output_type": "display_data"
    },
    {
     "data": {
      "text/html": [
       "\n",
       "    <div>\n",
       "      <progress value='24000' class='' max='24000' style='width:300px; height:20px; vertical-align: middle;'></progress>\n",
       "      100.00% [24000/24000 00:28&lt;00:00 Sampling 8 chains, 2 divergences]\n",
       "    </div>\n",
       "    "
      ],
      "text/plain": [
       "<IPython.core.display.HTML object>"
      ]
     },
     "metadata": {},
     "output_type": "display_data"
    },
    {
     "name": "stderr",
     "output_type": "stream",
     "text": [
      "Sampling 8 chains for 1_000 tune and 2_000 draw iterations (8_000 + 16_000 draws total) took 29 seconds.\n",
      "There were 2 divergences after tuning. Increase `target_accept` or reparameterize.\n",
      "Auto-assigning NUTS sampler...\n",
      "Initializing NUTS using jitter+adapt_diag...\n",
      "Multiprocess sampling (8 chains in 8 jobs)\n",
      "NUTS: [noise, Intercept, Meta, Display ads, Google, Perf max, Shopping]\n"
     ]
    },
    {
     "data": {
      "text/html": [
       "\n",
       "<style>\n",
       "    /* Turns off some styling */\n",
       "    progress {\n",
       "        /* gets rid of default border in Firefox and Opera. */\n",
       "        border: none;\n",
       "        /* Needs to be in here for Safari polyfill so background images work as expected. */\n",
       "        background-size: auto;\n",
       "    }\n",
       "    progress:not([value]), progress:not([value])::-webkit-progress-bar {\n",
       "        background: repeating-linear-gradient(45deg, #7e7e7e, #7e7e7e 10px, #5c5c5c 10px, #5c5c5c 20px);\n",
       "    }\n",
       "    .progress-bar-interrupted, .progress-bar-interrupted::-webkit-progress-bar {\n",
       "        background: #F44336;\n",
       "    }\n",
       "</style>\n"
      ],
      "text/plain": [
       "<IPython.core.display.HTML object>"
      ]
     },
     "metadata": {},
     "output_type": "display_data"
    },
    {
     "data": {
      "text/html": [
       "\n",
       "    <div>\n",
       "      <progress value='24000' class='' max='24000' style='width:300px; height:20px; vertical-align: middle;'></progress>\n",
       "      100.00% [24000/24000 00:34&lt;00:00 Sampling 8 chains, 0 divergences]\n",
       "    </div>\n",
       "    "
      ],
      "text/plain": [
       "<IPython.core.display.HTML object>"
      ]
     },
     "metadata": {},
     "output_type": "display_data"
    },
    {
     "name": "stderr",
     "output_type": "stream",
     "text": [
      "Sampling 8 chains for 1_000 tune and 2_000 draw iterations (8_000 + 16_000 draws total) took 35 seconds.\n",
      "Auto-assigning NUTS sampler...\n",
      "Initializing NUTS using jitter+adapt_diag...\n",
      "Multiprocess sampling (8 chains in 8 jobs)\n",
      "NUTS: [noise, Intercept, Meta, Meta_adstock, Display ads, Google, Perf max, Shopping]\n"
     ]
    },
    {
     "data": {
      "text/html": [
       "\n",
       "<style>\n",
       "    /* Turns off some styling */\n",
       "    progress {\n",
       "        /* gets rid of default border in Firefox and Opera. */\n",
       "        border: none;\n",
       "        /* Needs to be in here for Safari polyfill so background images work as expected. */\n",
       "        background-size: auto;\n",
       "    }\n",
       "    progress:not([value]), progress:not([value])::-webkit-progress-bar {\n",
       "        background: repeating-linear-gradient(45deg, #7e7e7e, #7e7e7e 10px, #5c5c5c 10px, #5c5c5c 20px);\n",
       "    }\n",
       "    .progress-bar-interrupted, .progress-bar-interrupted::-webkit-progress-bar {\n",
       "        background: #F44336;\n",
       "    }\n",
       "</style>\n"
      ],
      "text/plain": [
       "<IPython.core.display.HTML object>"
      ]
     },
     "metadata": {},
     "output_type": "display_data"
    },
    {
     "data": {
      "text/html": [
       "\n",
       "    <div>\n",
       "      <progress value='24000' class='' max='24000' style='width:300px; height:20px; vertical-align: middle;'></progress>\n",
       "      100.00% [24000/24000 00:43&lt;00:00 Sampling 8 chains, 0 divergences]\n",
       "    </div>\n",
       "    "
      ],
      "text/plain": [
       "<IPython.core.display.HTML object>"
      ]
     },
     "metadata": {},
     "output_type": "display_data"
    },
    {
     "name": "stderr",
     "output_type": "stream",
     "text": [
      "Sampling 8 chains for 1_000 tune and 2_000 draw iterations (8_000 + 16_000 draws total) took 43 seconds.\n",
      "Auto-assigning NUTS sampler...\n",
      "Initializing NUTS using jitter+adapt_diag...\n",
      "Multiprocess sampling (8 chains in 8 jobs)\n",
      "NUTS: [noise, Intercept, Meta, Meta_adstock, Display ads, Display ads_adstock, Google, Google_adstock, Perf max, Perf max_adstock, Shopping, Shopping_adstock]\n"
     ]
    },
    {
     "data": {
      "text/html": [
       "\n",
       "<style>\n",
       "    /* Turns off some styling */\n",
       "    progress {\n",
       "        /* gets rid of default border in Firefox and Opera. */\n",
       "        border: none;\n",
       "        /* Needs to be in here for Safari polyfill so background images work as expected. */\n",
       "        background-size: auto;\n",
       "    }\n",
       "    progress:not([value]), progress:not([value])::-webkit-progress-bar {\n",
       "        background: repeating-linear-gradient(45deg, #7e7e7e, #7e7e7e 10px, #5c5c5c 10px, #5c5c5c 20px);\n",
       "    }\n",
       "    .progress-bar-interrupted, .progress-bar-interrupted::-webkit-progress-bar {\n",
       "        background: #F44336;\n",
       "    }\n",
       "</style>\n"
      ],
      "text/plain": [
       "<IPython.core.display.HTML object>"
      ]
     },
     "metadata": {},
     "output_type": "display_data"
    },
    {
     "data": {
      "text/html": [
       "\n",
       "    <div>\n",
       "      <progress value='24000' class='' max='24000' style='width:300px; height:20px; vertical-align: middle;'></progress>\n",
       "      100.00% [24000/24000 01:00&lt;00:00 Sampling 8 chains, 0 divergences]\n",
       "    </div>\n",
       "    "
      ],
      "text/plain": [
       "<IPython.core.display.HTML object>"
      ]
     },
     "metadata": {},
     "output_type": "display_data"
    },
    {
     "name": "stderr",
     "output_type": "stream",
     "text": [
      "Sampling 8 chains for 1_000 tune and 2_000 draw iterations (8_000 + 16_000 draws total) took 60 seconds.\n",
      "Auto-assigning NUTS sampler...\n",
      "Initializing NUTS using jitter+adapt_diag...\n",
      "Multiprocess sampling (8 chains in 8 jobs)\n",
      "NUTS: [noise, Intercept, Meta_adstock, Display ads_adstock, Google_adstock, Perf max_adstock, Shopping_adstock]\n"
     ]
    },
    {
     "data": {
      "text/html": [
       "\n",
       "<style>\n",
       "    /* Turns off some styling */\n",
       "    progress {\n",
       "        /* gets rid of default border in Firefox and Opera. */\n",
       "        border: none;\n",
       "        /* Needs to be in here for Safari polyfill so background images work as expected. */\n",
       "        background-size: auto;\n",
       "    }\n",
       "    progress:not([value]), progress:not([value])::-webkit-progress-bar {\n",
       "        background: repeating-linear-gradient(45deg, #7e7e7e, #7e7e7e 10px, #5c5c5c 10px, #5c5c5c 20px);\n",
       "    }\n",
       "    .progress-bar-interrupted, .progress-bar-interrupted::-webkit-progress-bar {\n",
       "        background: #F44336;\n",
       "    }\n",
       "</style>\n"
      ],
      "text/plain": [
       "<IPython.core.display.HTML object>"
      ]
     },
     "metadata": {},
     "output_type": "display_data"
    },
    {
     "data": {
      "text/html": [
       "\n",
       "    <div>\n",
       "      <progress value='24000' class='' max='24000' style='width:300px; height:20px; vertical-align: middle;'></progress>\n",
       "      100.00% [24000/24000 00:35&lt;00:00 Sampling 8 chains, 1 divergences]\n",
       "    </div>\n",
       "    "
      ],
      "text/plain": [
       "<IPython.core.display.HTML object>"
      ]
     },
     "metadata": {},
     "output_type": "display_data"
    },
    {
     "name": "stderr",
     "output_type": "stream",
     "text": [
      "Sampling 8 chains for 1_000 tune and 2_000 draw iterations (8_000 + 16_000 draws total) took 35 seconds.\n",
      "There were 1 divergences after tuning. Increase `target_accept` or reparameterize.\n"
     ]
    }
   ],
   "source": [
    "slope_distribution = ['exponential', 'gamma'][1] # Gamma tends to behave better\n",
    "\n",
    "outputs = get_scalers(inputs)\n",
    "for dt in outputs:#[max(outputs)]:#outputs:#[max(outputs)]:\n",
    "    combo = outputs[dt]['scaled'].fillna(0)\n",
    "    nc_mean = combo['new_customers'].mean()\n",
    "    nc_std = combo['new_customers'].std()\n",
    "    intercept_alpha = (nc_mean**2)/(nc_std**2)\n",
    "    intercept_beta = nc_std/nc_mean\n",
    "    \n",
    "    outputs[dt]['models'] = {}\n",
    "    for adstock in ['no adstock', 'adstock - meta', 'adstock - all', 'adstock only']: #['adstock only']\n",
    "\n",
    "        # number of channels we want to add an ad stock variable to\n",
    "        if adstock == 'no adstock': adstock_channels = []\n",
    "        elif adstock == 'adstock - meta': adstock_channels = ['Meta']\n",
    "        elif adstock == 'adstock - all': adstock_channels = [x for x in list(combo.columns) if x != 'new_customers']\n",
    "        elif adstock == 'adstock only': adstock_channels = [x for x in list(combo.columns) if x != 'new_customers']\n",
    "\n",
    "        # model name for downstream analysis\n",
    "        model_name = slope_distribution + ', ' + adstock\n",
    "        outputs[dt]['models'][model_name] = {}\n",
    "\n",
    "        # build the model\n",
    "        with pm.Model() as model:\n",
    "            #noise = pm.Exponential('noise', lam=1)\n",
    "            noise = pm.HalfNormal('noise', sigma=10)\n",
    "            mu = pm.Gamma('Intercept', alpha=intercept_alpha, beta=intercept_beta)\n",
    "            for param in combo.columns[:-1].to_list():\n",
    "                if adstock != 'adstock only':\n",
    "                    adstock_shift = 1\n",
    "                    if slope_distribution == 'exponential': slope = pm.Exponential(f'{param}', lam=1)\n",
    "                    elif slope_distribution == 'gamma': slope = pm.Gamma(f'{param}', alpha=3, beta=1) \n",
    "                    mu += np.asarray(combo[param]) * slope\n",
    "                else: adstock_shift = 0\n",
    "                if param in adstock_channels:\n",
    "                    if slope_distribution == 'exponential': slope_adstock = pm.Exponential(f'{param}_adstock', lam=1)\n",
    "                    elif slope_distribution == 'gamma': slope_adstock = pm.Gamma(f'{param}_adstock', alpha=3, beta=1)\n",
    "                    #alpha = pm.Beta(f'{param}_alpha', alpha=1, beta=3)\n",
    "                    mu += geometric_adstock_tt(np.asarray(combo[param].shift(adstock_shift).fillna(0)), alpha=0.7, L=10) * slope_adstock\n",
    "            Y_obs = pm.Normal('Y_obs', \\\n",
    "                              mu=mu, \\\n",
    "                              sigma=noise, \\\n",
    "                              observed=np.asarray(combo['new_customers']))\n",
    "\n",
    "            # save findings for downstream analysis\n",
    "            outputs[dt]['models'][model_name]['idata'] = pm.sample(2000, cores=8, return_inferencedata=True)\n",
    "            # other stats to consider saving: trace.stat_names"
   ]
  },
  {
   "attachments": {},
   "cell_type": "markdown",
   "metadata": {},
   "source": [
    "### Process traces from PyMC"
   ]
  },
  {
   "cell_type": "code",
   "execution_count": 8,
   "metadata": {},
   "outputs": [],
   "source": [
    "# rescales regression outputs for end-user consumption\n",
    "def rescale(coefs, scalers, y):\n",
    "    b = {}\n",
    "    b['Intercept'] = coefs['Intercept'] * scalers[y]['std'] + scalers[y]['mean']\n",
    "    for x, coef in coefs.items():\n",
    "        if x not in ['Intercept', 'noise']:\n",
    "            if x in scalers:\n",
    "                b[x] = coef * scalers[y]['std'] / scalers[x]['std']\n",
    "                b['Intercept'] = b['Intercept'] - b[x] * scalers[x]['mean']\n",
    "                b[x] = b[x] ** -1\n",
    "            if x[:-8] in scalers:\n",
    "                b[x] = coef * scalers[y]['std'] / scalers[x[:-8]]['std']\n",
    "                b['Intercept'] = b['Intercept'] - b[x] * scalers[x[:-8]]['mean']\n",
    "                b[x] = b[x] ** -1\n",
    "        elif x == 'noise': b[x] = coef\n",
    "    return b\n",
    "\n",
    "def process_idata(idata, scalers):\n",
    "    coefs = {}\n",
    "    trace_summary = az.summary(idata).filter(['mean','sd','hdi_3%','hdi_97%'])\n",
    "    metrics = trace_summary.loc[['Intercept', 'noise'], :]\n",
    "    metrics = pd.concat([\n",
    "            metrics,\n",
    "            pd.DataFrame({'mean': [idata.sample_stats.diverging.data.sum()]}, index=['Divergences'])\n",
    "        ],\n",
    "        axis=0\n",
    "    )\n",
    "    trace_summary = trace_summary.loc[[x for x in trace_summary.index if x != 'noise'], :]\n",
    "    coefs = rescale(trace_summary['mean'].to_dict(), scalers, 'new_customers')\n",
    "\n",
    "    coefs = pd.DataFrame.from_dict(coefs, orient='index').rename({0: 'coef'}, axis=1)\n",
    "    coefs['channel'] = coefs.index.map(lambda x: x[:-8] if '_adstock' in x else x)\n",
    "    coefs['source'] = coefs.index.map(lambda x: 'stock' if '_adstock' in x else 'base')\n",
    "    coefs = pd.pivot_table(coefs, index='channel', columns='source', values='coef', aggfunc='sum')\n",
    "    if coefs['base'].count() == 1:\n",
    "        coefs['combined'] = coefs.stock.copy()\n",
    "    elif 'stock' in coefs.columns:\n",
    "        coefs['combined'] = (coefs.base ** -1 + coefs.stock.fillna(0).apply(lambda x: x ** -1 if x!= 0 else 0)) ** -1\n",
    "        coefs['percent_conversion'] = (coefs.base ** -1) / (coefs.base ** -1 + coefs.stock ** -1)\n",
    "    else: coefs['combined'] = coefs.base.copy()\n",
    "    return [metrics, coefs]\n",
    "\n",
    "metrics, coefs = {}, {}\n",
    "for dt in outputs:\n",
    "    metrics[dt] = {}\n",
    "    coefs[dt] = {}\n",
    "    for model_name in outputs[dt]['models']:\n",
    "        temp = process_idata(outputs[dt]['models'][model_name]['idata'], outputs[dt]['scalers'])\n",
    "        metrics[dt][model_name] = temp[0]\n",
    "        coefs[dt][model_name] = temp[1]"
   ]
  },
  {
   "cell_type": "code",
   "execution_count": 9,
   "metadata": {},
   "outputs": [
    {
     "data": {
      "text/html": [
       "<div>\n",
       "<style scoped>\n",
       "    .dataframe tbody tr th:only-of-type {\n",
       "        vertical-align: middle;\n",
       "    }\n",
       "\n",
       "    .dataframe tbody tr th {\n",
       "        vertical-align: top;\n",
       "    }\n",
       "\n",
       "    .dataframe thead th {\n",
       "        text-align: right;\n",
       "    }\n",
       "</style>\n",
       "<table border=\"1\" class=\"dataframe\">\n",
       "  <thead>\n",
       "    <tr style=\"text-align: right;\">\n",
       "      <th></th>\n",
       "      <th></th>\n",
       "      <th>2020-12-22</th>\n",
       "      <th>2021-06-22</th>\n",
       "      <th>2021-12-21</th>\n",
       "      <th>2022-06-21</th>\n",
       "      <th>2022-12-20</th>\n",
       "      <th>2023-06-20</th>\n",
       "    </tr>\n",
       "    <tr>\n",
       "      <th>param</th>\n",
       "      <th>model</th>\n",
       "      <th></th>\n",
       "      <th></th>\n",
       "      <th></th>\n",
       "      <th></th>\n",
       "      <th></th>\n",
       "      <th></th>\n",
       "    </tr>\n",
       "  </thead>\n",
       "  <tbody>\n",
       "    <tr>\n",
       "      <th rowspan=\"4\" valign=\"top\">Divergences</th>\n",
       "      <th>gamma, adstock - all</th>\n",
       "      <td>12.000</td>\n",
       "      <td>5.000</td>\n",
       "      <td>1.000</td>\n",
       "      <td>2.000</td>\n",
       "      <td>2.000</td>\n",
       "      <td>0.000</td>\n",
       "    </tr>\n",
       "    <tr>\n",
       "      <th>gamma, adstock - meta</th>\n",
       "      <td>13.000</td>\n",
       "      <td>2.000</td>\n",
       "      <td>2.000</td>\n",
       "      <td>3.000</td>\n",
       "      <td>1.000</td>\n",
       "      <td>0.000</td>\n",
       "    </tr>\n",
       "    <tr>\n",
       "      <th>gamma, adstock only</th>\n",
       "      <td>52.000</td>\n",
       "      <td>0.000</td>\n",
       "      <td>14.000</td>\n",
       "      <td>2.000</td>\n",
       "      <td>2.000</td>\n",
       "      <td>1.000</td>\n",
       "    </tr>\n",
       "    <tr>\n",
       "      <th>gamma, no adstock</th>\n",
       "      <td>72.000</td>\n",
       "      <td>0.000</td>\n",
       "      <td>1.000</td>\n",
       "      <td>2.000</td>\n",
       "      <td>0.000</td>\n",
       "      <td>0.000</td>\n",
       "    </tr>\n",
       "    <tr>\n",
       "      <th rowspan=\"4\" valign=\"top\">Intercept</th>\n",
       "      <th>gamma, adstock - all</th>\n",
       "      <td>0.022</td>\n",
       "      <td>0.084</td>\n",
       "      <td>0.145</td>\n",
       "      <td>0.193</td>\n",
       "      <td>0.186</td>\n",
       "      <td>0.301</td>\n",
       "    </tr>\n",
       "    <tr>\n",
       "      <th>gamma, adstock - meta</th>\n",
       "      <td>0.028</td>\n",
       "      <td>0.097</td>\n",
       "      <td>0.177</td>\n",
       "      <td>0.198</td>\n",
       "      <td>0.291</td>\n",
       "      <td>0.333</td>\n",
       "    </tr>\n",
       "    <tr>\n",
       "      <th>gamma, adstock only</th>\n",
       "      <td>0.034</td>\n",
       "      <td>0.121</td>\n",
       "      <td>0.351</td>\n",
       "      <td>0.279</td>\n",
       "      <td>0.330</td>\n",
       "      <td>0.392</td>\n",
       "    </tr>\n",
       "    <tr>\n",
       "      <th>gamma, no adstock</th>\n",
       "      <td>0.034</td>\n",
       "      <td>0.106</td>\n",
       "      <td>0.181</td>\n",
       "      <td>0.219</td>\n",
       "      <td>0.342</td>\n",
       "      <td>0.364</td>\n",
       "    </tr>\n",
       "    <tr>\n",
       "      <th rowspan=\"4\" valign=\"top\">noise</th>\n",
       "      <th>gamma, adstock - all</th>\n",
       "      <td>1.447</td>\n",
       "      <td>0.668</td>\n",
       "      <td>0.866</td>\n",
       "      <td>0.577</td>\n",
       "      <td>0.830</td>\n",
       "      <td>0.314</td>\n",
       "    </tr>\n",
       "    <tr>\n",
       "      <th>gamma, adstock - meta</th>\n",
       "      <td>1.415</td>\n",
       "      <td>0.651</td>\n",
       "      <td>0.834</td>\n",
       "      <td>0.555</td>\n",
       "      <td>0.805</td>\n",
       "      <td>0.312</td>\n",
       "    </tr>\n",
       "    <tr>\n",
       "      <th>gamma, adstock only</th>\n",
       "      <td>1.430</td>\n",
       "      <td>0.660</td>\n",
       "      <td>0.878</td>\n",
       "      <td>0.590</td>\n",
       "      <td>0.843</td>\n",
       "      <td>0.325</td>\n",
       "    </tr>\n",
       "    <tr>\n",
       "      <th>gamma, no adstock</th>\n",
       "      <td>1.430</td>\n",
       "      <td>0.646</td>\n",
       "      <td>0.825</td>\n",
       "      <td>0.550</td>\n",
       "      <td>0.803</td>\n",
       "      <td>0.312</td>\n",
       "    </tr>\n",
       "  </tbody>\n",
       "</table>\n",
       "</div>"
      ],
      "text/plain": [
       "                                   2020-12-22  2021-06-22  2021-12-21  \\\n",
       "param       model                                                       \n",
       "Divergences gamma, adstock - all       12.000       5.000       1.000   \n",
       "            gamma, adstock - meta      13.000       2.000       2.000   \n",
       "            gamma, adstock only        52.000       0.000      14.000   \n",
       "            gamma, no adstock          72.000       0.000       1.000   \n",
       "Intercept   gamma, adstock - all        0.022       0.084       0.145   \n",
       "            gamma, adstock - meta       0.028       0.097       0.177   \n",
       "            gamma, adstock only         0.034       0.121       0.351   \n",
       "            gamma, no adstock           0.034       0.106       0.181   \n",
       "noise       gamma, adstock - all        1.447       0.668       0.866   \n",
       "            gamma, adstock - meta       1.415       0.651       0.834   \n",
       "            gamma, adstock only         1.430       0.660       0.878   \n",
       "            gamma, no adstock           1.430       0.646       0.825   \n",
       "\n",
       "                                   2022-06-21  2022-12-20  2023-06-20  \n",
       "param       model                                                      \n",
       "Divergences gamma, adstock - all        2.000       2.000       0.000  \n",
       "            gamma, adstock - meta       3.000       1.000       0.000  \n",
       "            gamma, adstock only         2.000       2.000       1.000  \n",
       "            gamma, no adstock           2.000       0.000       0.000  \n",
       "Intercept   gamma, adstock - all        0.193       0.186       0.301  \n",
       "            gamma, adstock - meta       0.198       0.291       0.333  \n",
       "            gamma, adstock only         0.279       0.330       0.392  \n",
       "            gamma, no adstock           0.219       0.342       0.364  \n",
       "noise       gamma, adstock - all        0.577       0.830       0.314  \n",
       "            gamma, adstock - meta       0.555       0.805       0.312  \n",
       "            gamma, adstock only         0.590       0.843       0.325  \n",
       "            gamma, no adstock           0.550       0.803       0.312  "
      ]
     },
     "execution_count": 9,
     "metadata": {},
     "output_type": "execute_result"
    }
   ],
   "source": [
    "summaries, models = [], []\n",
    "for model in metrics[max(metrics)]:\n",
    "    slices, keys = [], []\n",
    "    for dt in metrics:\n",
    "        slices.append(metrics[dt][model]['mean'])\n",
    "        keys.append(dt)\n",
    "    summaries.append(pd.concat(slices, axis=1, keys=keys))\n",
    "    models.append(model)\n",
    "checks = pd.concat(summaries, axis=0, keys=models).reset_index().rename({'level_0': 'model', 'level_1': 'param'}, axis=1)\n",
    "checks = checks.sort_values(by=['param', 'model']).set_index(['param', 'model'])\n",
    "checks"
   ]
  },
  {
   "cell_type": "code",
   "execution_count": 10,
   "metadata": {},
   "outputs": [
    {
     "data": {
      "text/html": [
       "<div>\n",
       "<style scoped>\n",
       "    .dataframe tbody tr th:only-of-type {\n",
       "        vertical-align: middle;\n",
       "    }\n",
       "\n",
       "    .dataframe tbody tr th {\n",
       "        vertical-align: top;\n",
       "    }\n",
       "\n",
       "    .dataframe thead th {\n",
       "        text-align: right;\n",
       "    }\n",
       "</style>\n",
       "<table border=\"1\" class=\"dataframe\">\n",
       "  <thead>\n",
       "    <tr style=\"text-align: right;\">\n",
       "      <th></th>\n",
       "      <th></th>\n",
       "      <th>2020-12-22</th>\n",
       "      <th>2021-06-22</th>\n",
       "      <th>2021-12-21</th>\n",
       "      <th>2022-06-21</th>\n",
       "      <th>2022-12-20</th>\n",
       "      <th>2023-06-20</th>\n",
       "    </tr>\n",
       "    <tr>\n",
       "      <th>param</th>\n",
       "      <th>model</th>\n",
       "      <th></th>\n",
       "      <th></th>\n",
       "      <th></th>\n",
       "      <th></th>\n",
       "      <th></th>\n",
       "      <th></th>\n",
       "    </tr>\n",
       "  </thead>\n",
       "  <tbody>\n",
       "    <tr>\n",
       "      <th rowspan=\"4\" valign=\"top\">Display ads</th>\n",
       "      <th>gamma, adstock - all</th>\n",
       "      <td>343.78</td>\n",
       "      <td>98.56</td>\n",
       "      <td>283.06</td>\n",
       "      <td>472.04</td>\n",
       "      <td>185.84</td>\n",
       "      <td>324.76</td>\n",
       "    </tr>\n",
       "    <tr>\n",
       "      <th>gamma, adstock - meta</th>\n",
       "      <td>520.08</td>\n",
       "      <td>147.85</td>\n",
       "      <td>442.28</td>\n",
       "      <td>928.85</td>\n",
       "      <td>274.72</td>\n",
       "      <td>391.38</td>\n",
       "    </tr>\n",
       "    <tr>\n",
       "      <th>gamma, adstock only</th>\n",
       "      <td>440.94</td>\n",
       "      <td>130.79</td>\n",
       "      <td>340.22</td>\n",
       "      <td>685.58</td>\n",
       "      <td>195.42</td>\n",
       "      <td>320.22</td>\n",
       "    </tr>\n",
       "    <tr>\n",
       "      <th>gamma, no adstock</th>\n",
       "      <td>471.70</td>\n",
       "      <td>149.47</td>\n",
       "      <td>426.29</td>\n",
       "      <td>872.56</td>\n",
       "      <td>296.18</td>\n",
       "      <td>352.24</td>\n",
       "    </tr>\n",
       "    <tr>\n",
       "      <th rowspan=\"4\" valign=\"top\">Google</th>\n",
       "      <th>gamma, adstock - all</th>\n",
       "      <td>236.74</td>\n",
       "      <td>189.08</td>\n",
       "      <td>247.00</td>\n",
       "      <td>326.29</td>\n",
       "      <td>761.53</td>\n",
       "      <td>345.98</td>\n",
       "    </tr>\n",
       "    <tr>\n",
       "      <th>gamma, adstock - meta</th>\n",
       "      <td>265.53</td>\n",
       "      <td>156.23</td>\n",
       "      <td>228.91</td>\n",
       "      <td>293.74</td>\n",
       "      <td>843.13</td>\n",
       "      <td>412.41</td>\n",
       "    </tr>\n",
       "    <tr>\n",
       "      <th>gamma, adstock only</th>\n",
       "      <td>282.72</td>\n",
       "      <td>155.14</td>\n",
       "      <td>298.77</td>\n",
       "      <td>377.27</td>\n",
       "      <td>915.02</td>\n",
       "      <td>412.41</td>\n",
       "    </tr>\n",
       "    <tr>\n",
       "      <th>gamma, no adstock</th>\n",
       "      <td>191.70</td>\n",
       "      <td>144.69</td>\n",
       "      <td>211.08</td>\n",
       "      <td>294.45</td>\n",
       "      <td>880.88</td>\n",
       "      <td>390.54</td>\n",
       "    </tr>\n",
       "    <tr>\n",
       "      <th rowspan=\"4\" valign=\"top\">Intercept</th>\n",
       "      <th>gamma, adstock - all</th>\n",
       "      <td>0.46</td>\n",
       "      <td>1.23</td>\n",
       "      <td>2.76</td>\n",
       "      <td>3.44</td>\n",
       "      <td>4.26</td>\n",
       "      <td>4.88</td>\n",
       "    </tr>\n",
       "    <tr>\n",
       "      <th>gamma, adstock - meta</th>\n",
       "      <td>0.59</td>\n",
       "      <td>1.42</td>\n",
       "      <td>3.37</td>\n",
       "      <td>3.53</td>\n",
       "      <td>6.66</td>\n",
       "      <td>5.40</td>\n",
       "    </tr>\n",
       "    <tr>\n",
       "      <th>gamma, adstock only</th>\n",
       "      <td>NaN</td>\n",
       "      <td>NaN</td>\n",
       "      <td>NaN</td>\n",
       "      <td>NaN</td>\n",
       "      <td>NaN</td>\n",
       "      <td>NaN</td>\n",
       "    </tr>\n",
       "    <tr>\n",
       "      <th>gamma, no adstock</th>\n",
       "      <td>0.71</td>\n",
       "      <td>1.55</td>\n",
       "      <td>3.44</td>\n",
       "      <td>3.91</td>\n",
       "      <td>7.83</td>\n",
       "      <td>5.90</td>\n",
       "    </tr>\n",
       "    <tr>\n",
       "      <th rowspan=\"4\" valign=\"top\">Meta</th>\n",
       "      <th>gamma, adstock - all</th>\n",
       "      <td>893.77</td>\n",
       "      <td>700.98</td>\n",
       "      <td>3029.95</td>\n",
       "      <td>3289.77</td>\n",
       "      <td>614.30</td>\n",
       "      <td>1588.80</td>\n",
       "    </tr>\n",
       "    <tr>\n",
       "      <th>gamma, adstock - meta</th>\n",
       "      <td>623.78</td>\n",
       "      <td>650.39</td>\n",
       "      <td>2728.96</td>\n",
       "      <td>2838.23</td>\n",
       "      <td>549.64</td>\n",
       "      <td>1345.90</td>\n",
       "    </tr>\n",
       "    <tr>\n",
       "      <th>gamma, adstock only</th>\n",
       "      <td>755.62</td>\n",
       "      <td>934.64</td>\n",
       "      <td>4204.83</td>\n",
       "      <td>4320.89</td>\n",
       "      <td>644.22</td>\n",
       "      <td>1737.91</td>\n",
       "    </tr>\n",
       "    <tr>\n",
       "      <th>gamma, no adstock</th>\n",
       "      <td>1260.69</td>\n",
       "      <td>914.32</td>\n",
       "      <td>4736.48</td>\n",
       "      <td>4595.23</td>\n",
       "      <td>597.65</td>\n",
       "      <td>1593.51</td>\n",
       "    </tr>\n",
       "    <tr>\n",
       "      <th rowspan=\"4\" valign=\"top\">Perf max</th>\n",
       "      <th>gamma, adstock - all</th>\n",
       "      <td>NaN</td>\n",
       "      <td>NaN</td>\n",
       "      <td>NaN</td>\n",
       "      <td>NaN</td>\n",
       "      <td>612.46</td>\n",
       "      <td>238.53</td>\n",
       "    </tr>\n",
       "    <tr>\n",
       "      <th>gamma, adstock - meta</th>\n",
       "      <td>NaN</td>\n",
       "      <td>NaN</td>\n",
       "      <td>NaN</td>\n",
       "      <td>NaN</td>\n",
       "      <td>880.89</td>\n",
       "      <td>241.09</td>\n",
       "    </tr>\n",
       "    <tr>\n",
       "      <th>gamma, adstock only</th>\n",
       "      <td>NaN</td>\n",
       "      <td>NaN</td>\n",
       "      <td>NaN</td>\n",
       "      <td>NaN</td>\n",
       "      <td>859.66</td>\n",
       "      <td>307.15</td>\n",
       "    </tr>\n",
       "    <tr>\n",
       "      <th>gamma, no adstock</th>\n",
       "      <td>NaN</td>\n",
       "      <td>NaN</td>\n",
       "      <td>NaN</td>\n",
       "      <td>NaN</td>\n",
       "      <td>908.94</td>\n",
       "      <td>233.56</td>\n",
       "    </tr>\n",
       "    <tr>\n",
       "      <th rowspan=\"4\" valign=\"top\">Shopping</th>\n",
       "      <th>gamma, adstock - all</th>\n",
       "      <td>472.54</td>\n",
       "      <td>442.71</td>\n",
       "      <td>457.74</td>\n",
       "      <td>923.30</td>\n",
       "      <td>762.50</td>\n",
       "      <td>174.24</td>\n",
       "    </tr>\n",
       "    <tr>\n",
       "      <th>gamma, adstock - meta</th>\n",
       "      <td>599.11</td>\n",
       "      <td>799.73</td>\n",
       "      <td>476.42</td>\n",
       "      <td>1084.51</td>\n",
       "      <td>1152.61</td>\n",
       "      <td>227.43</td>\n",
       "    </tr>\n",
       "    <tr>\n",
       "      <th>gamma, adstock only</th>\n",
       "      <td>565.45</td>\n",
       "      <td>576.55</td>\n",
       "      <td>576.41</td>\n",
       "      <td>794.47</td>\n",
       "      <td>1077.44</td>\n",
       "      <td>180.05</td>\n",
       "    </tr>\n",
       "    <tr>\n",
       "      <th>gamma, no adstock</th>\n",
       "      <td>453.38</td>\n",
       "      <td>729.17</td>\n",
       "      <td>462.27</td>\n",
       "      <td>1004.77</td>\n",
       "      <td>1101.38</td>\n",
       "      <td>225.06</td>\n",
       "    </tr>\n",
       "    <tr>\n",
       "      <th rowspan=\"4\" valign=\"top\">Video ads</th>\n",
       "      <th>gamma, adstock - all</th>\n",
       "      <td>37.09</td>\n",
       "      <td>47.78</td>\n",
       "      <td>184.29</td>\n",
       "      <td>1608.33</td>\n",
       "      <td>352.18</td>\n",
       "      <td>NaN</td>\n",
       "    </tr>\n",
       "    <tr>\n",
       "      <th>gamma, adstock - meta</th>\n",
       "      <td>80.25</td>\n",
       "      <td>82.66</td>\n",
       "      <td>286.68</td>\n",
       "      <td>2306.28</td>\n",
       "      <td>650.19</td>\n",
       "      <td>NaN</td>\n",
       "    </tr>\n",
       "    <tr>\n",
       "      <th>gamma, adstock only</th>\n",
       "      <td>51.32</td>\n",
       "      <td>82.66</td>\n",
       "      <td>252.40</td>\n",
       "      <td>1909.89</td>\n",
       "      <td>402.50</td>\n",
       "      <td>NaN</td>\n",
       "    </tr>\n",
       "    <tr>\n",
       "      <th>gamma, no adstock</th>\n",
       "      <td>73.56</td>\n",
       "      <td>84.95</td>\n",
       "      <td>283.18</td>\n",
       "      <td>2071.74</td>\n",
       "      <td>704.37</td>\n",
       "      <td>NaN</td>\n",
       "    </tr>\n",
       "  </tbody>\n",
       "</table>\n",
       "</div>"
      ],
      "text/plain": [
       "                                   2020-12-22  2021-06-22  2021-12-21  \\\n",
       "param       model                                                       \n",
       "Display ads gamma, adstock - all       343.78       98.56      283.06   \n",
       "            gamma, adstock - meta      520.08      147.85      442.28   \n",
       "            gamma, adstock only        440.94      130.79      340.22   \n",
       "            gamma, no adstock          471.70      149.47      426.29   \n",
       "Google      gamma, adstock - all       236.74      189.08      247.00   \n",
       "            gamma, adstock - meta      265.53      156.23      228.91   \n",
       "            gamma, adstock only        282.72      155.14      298.77   \n",
       "            gamma, no adstock          191.70      144.69      211.08   \n",
       "Intercept   gamma, adstock - all         0.46        1.23        2.76   \n",
       "            gamma, adstock - meta        0.59        1.42        3.37   \n",
       "            gamma, adstock only           NaN         NaN         NaN   \n",
       "            gamma, no adstock            0.71        1.55        3.44   \n",
       "Meta        gamma, adstock - all       893.77      700.98     3029.95   \n",
       "            gamma, adstock - meta      623.78      650.39     2728.96   \n",
       "            gamma, adstock only        755.62      934.64     4204.83   \n",
       "            gamma, no adstock         1260.69      914.32     4736.48   \n",
       "Perf max    gamma, adstock - all          NaN         NaN         NaN   \n",
       "            gamma, adstock - meta         NaN         NaN         NaN   \n",
       "            gamma, adstock only           NaN         NaN         NaN   \n",
       "            gamma, no adstock             NaN         NaN         NaN   \n",
       "Shopping    gamma, adstock - all       472.54      442.71      457.74   \n",
       "            gamma, adstock - meta      599.11      799.73      476.42   \n",
       "            gamma, adstock only        565.45      576.55      576.41   \n",
       "            gamma, no adstock          453.38      729.17      462.27   \n",
       "Video ads   gamma, adstock - all        37.09       47.78      184.29   \n",
       "            gamma, adstock - meta       80.25       82.66      286.68   \n",
       "            gamma, adstock only         51.32       82.66      252.40   \n",
       "            gamma, no adstock           73.56       84.95      283.18   \n",
       "\n",
       "                                   2022-06-21  2022-12-20  2023-06-20  \n",
       "param       model                                                      \n",
       "Display ads gamma, adstock - all       472.04      185.84      324.76  \n",
       "            gamma, adstock - meta      928.85      274.72      391.38  \n",
       "            gamma, adstock only        685.58      195.42      320.22  \n",
       "            gamma, no adstock          872.56      296.18      352.24  \n",
       "Google      gamma, adstock - all       326.29      761.53      345.98  \n",
       "            gamma, adstock - meta      293.74      843.13      412.41  \n",
       "            gamma, adstock only        377.27      915.02      412.41  \n",
       "            gamma, no adstock          294.45      880.88      390.54  \n",
       "Intercept   gamma, adstock - all         3.44        4.26        4.88  \n",
       "            gamma, adstock - meta        3.53        6.66        5.40  \n",
       "            gamma, adstock only           NaN         NaN         NaN  \n",
       "            gamma, no adstock            3.91        7.83        5.90  \n",
       "Meta        gamma, adstock - all      3289.77      614.30     1588.80  \n",
       "            gamma, adstock - meta     2838.23      549.64     1345.90  \n",
       "            gamma, adstock only       4320.89      644.22     1737.91  \n",
       "            gamma, no adstock         4595.23      597.65     1593.51  \n",
       "Perf max    gamma, adstock - all          NaN      612.46      238.53  \n",
       "            gamma, adstock - meta         NaN      880.89      241.09  \n",
       "            gamma, adstock only           NaN      859.66      307.15  \n",
       "            gamma, no adstock             NaN      908.94      233.56  \n",
       "Shopping    gamma, adstock - all       923.30      762.50      174.24  \n",
       "            gamma, adstock - meta     1084.51     1152.61      227.43  \n",
       "            gamma, adstock only        794.47     1077.44      180.05  \n",
       "            gamma, no adstock         1004.77     1101.38      225.06  \n",
       "Video ads   gamma, adstock - all      1608.33      352.18         NaN  \n",
       "            gamma, adstock - meta     2306.28      650.19         NaN  \n",
       "            gamma, adstock only       1909.89      402.50         NaN  \n",
       "            gamma, no adstock         2071.74      704.37         NaN  "
      ]
     },
     "execution_count": 10,
     "metadata": {},
     "output_type": "execute_result"
    }
   ],
   "source": [
    "def process_rolling_windows(x, field):\n",
    "    summaries, models = [], []\n",
    "    for model in metrics[max(x)]:\n",
    "        slices, keys = [], []\n",
    "        for dt in metrics:\n",
    "            if field in x[dt][model]:\n",
    "                slices.append(x[dt][model][field])\n",
    "            else:\n",
    "                temp = x[dt][model].iloc[:,0]\n",
    "                temp.rename({temp.name: field}, inplace=True)\n",
    "                temp = temp + np.nan\n",
    "                slices.append(temp)\n",
    "            keys.append(dt)\n",
    "        summaries.append(pd.concat(slices, axis=1, keys=keys))\n",
    "        models.append(model)\n",
    "    summary = pd.concat(summaries, axis=0, keys=models).reset_index().rename({'level_0': 'model', \\\n",
    "                                                                              'level_1': 'param', \\\n",
    "                                                                              'channel': 'param'}, axis=1)\n",
    "    summary = summary.sort_values(by=['param', 'model']).set_index(['param', 'model'])\n",
    "    return summary\n",
    "\n",
    "summaries, params = [], []\n",
    "for param in coefs[dt][model]:\n",
    "    summaries.append(process_rolling_windows(coefs, param))\n",
    "    params.append(param)\n",
    "summaries = pd.concat(summaries, axis=0, keys=params)\n",
    "round(summaries.loc['combined',:],2)\n",
    "# note that Intercept is not stored under 'combined' but is instead under 'base'"
   ]
  },
  {
   "attachments": {},
   "cell_type": "markdown",
   "metadata": {},
   "source": [
    "### Visualise our findings"
   ]
  },
  {
   "cell_type": "code",
   "execution_count": 11,
   "metadata": {},
   "outputs": [
    {
     "data": {
      "image/png": "[encoded data removed]",
      "text/plain": [
       "<Figure size 1300x1520 with 12 Axes>"
      ]
     },
     "metadata": {},
     "output_type": "display_data"
    }
   ],
   "source": [
    "# predictors - all channels other than 'Intercept'\n",
    "predictors = [x for x in set(summaries.index.get_level_values(level=1)) if x != 'Intercept']\n",
    "\n",
    "# pull together all the data we want to plot\n",
    "to_plot = pd.concat([checks.loc[(['Divergences', 'noise'],slice(None)),:], \\\n",
    "                     summaries.loc['base',:].loc[('Intercept',slice(None)),:], \\\n",
    "                     summaries.loc['combined',:].loc[(predictors,slice(None)),:]], axis=0)\n",
    "to_plot.columns = [col[:4]+'\\n'+col[5:-3] for col in to_plot.columns]\n",
    "\n",
    "# set the layout for our plots\n",
    "charts_per_row = 3\n",
    "params = ['Divergences', 'noise', 'Intercept'] + [''] * (charts_per_row-3) + \\\n",
    "         [x for x in predictors if x != 'Intercept']\n",
    "params = params + [''] * (charts_per_row - len(predictors) % charts_per_row)\n",
    "rows = int(len(params)/charts_per_row)\n",
    "\n",
    "# line colors + styles\n",
    "c = {'adstock - all': 'tab:blue', 'adstock - meta': 'tab:blue', 'adstock only': 'tab:red', 'no adstock': 'tab:red'}\n",
    "ls = {'adstock - all': '-', 'adstock - meta': ':', 'adstock only': '--', 'no adstock': ':'} \n",
    "\n",
    "# generate the plots\n",
    "fig, ax = plt.subplots(nrows=rows, ncols=charts_per_row, figsize=(13,rows*3.8))#, sharex=True)\n",
    "for i in range(rows):\n",
    "    for j in range(charts_per_row):\n",
    "        x = ax[i, j]\n",
    "        param = params[charts_per_row * i + j]\n",
    "        if param == '':\n",
    "            x.axis('off')\n",
    "        else: \n",
    "            if param in predictors: x.set_title('CAC for ' + param)\n",
    "            else: x.set_title(param)\n",
    "            (to_plot.sum(axis=0) * 0).plot(ax=x, c='tab:gray', ls=':', label='_nolegend_')\n",
    "            temp = to_plot.loc[([param],slice(None)),:].reset_index().copy()\n",
    "            temp['legend'] = temp.model.apply(lambda x: x[x.find(',')+2:])\n",
    "            temp.set_index('legend', inplace=True)\n",
    "            temp = temp.drop(['param', 'model'], axis=1).T\n",
    "            for col in temp.columns:\n",
    "                temp[col].plot(ax=x, c=c[col], ls=ls[col])\n",
    "            x.legend(frameon=False, columnspacing=1, handletextpad=0.5, handlelength=2)\n",
    "plt.subplots_adjust(hspace=0.35)\n",
    "plt.show()"
   ]
  },
  {
   "cell_type": "code",
   "execution_count": null,
   "metadata": {},
   "outputs": [],
   "source": []
  },
  {
   "cell_type": "code",
   "execution_count": null,
   "metadata": {},
   "outputs": [],
   "source": []
  }
 ],
 "metadata": {
  "deepnote_execution_queue": [],
  "deepnote_notebook_id": "5e2336be-36df-4bb3-984f-aee2d01a5458",
  "environment": {
   "kernel": "pymc3",
   "name": "common-cpu.m108",
   "type": "gcloud",
   "uri": "gcr.io/deeplearning-platform-release/base-cpu:m108"
  },
  "kernelspec": {
   "display_name": "mmm",
   "language": "python",
   "name": "python3"
  },
  "language_info": {
   "codemirror_mode": {
    "name": "ipython",
    "version": 3
   },
   "file_extension": ".py",
   "mimetype": "text/x-python",
   "name": "python",
   "nbconvert_exporter": "python",
   "pygments_lexer": "ipython3",
   "version": "3.11.4"
  }
 },
 "nbformat": 4,
 "nbformat_minor": 4
}
